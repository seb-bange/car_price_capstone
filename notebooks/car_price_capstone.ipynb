{
  "cells": [
    {
      "cell_type": "markdown",
      "metadata": {
        "id": "xkkFfKsay6SP"
      },
      "source": [
        "# Google Data Analytics Capstone Project\n",
        "\n",
        "## 1. Ask\n",
        "\n",
        "**Business Task**  \n",
        "This project aims to identify which factors influence car prices (MSRP).  \n",
        "The goal is to support manufacturers or dealerships in understanding price drivers and customer preferences.\n",
        "\n",
        "**Key Questions:**\n",
        "- Which features (e.g., engine HP, cylinders, fuel type) correlate most with MSRP?\n",
        "- Do drivetrain or vehicle size influence price?\n",
        "- Can patterns be found in popular or affordable models?"
      ]
    },
    {
      "cell_type": "markdown",
      "metadata": {},
      "source": [
        "## 2. Prepare\n",
        "\n",
        "**Data Source**:  \n",
        "The dataset contains specifications of various car models from different manufacturers.  \n",
        "It includes variables such as engine HP, fuel type, driven wheels, popularity, and MSRP.\n",
        "\n",
        "**Initial Observations:**\n",
        "- Format: CSV file\n",
        "- Some columns contain missing values (e.g., Engine HP, Fuel Type)\n",
        "- Some columns may have duplicates or inconsistent entries\n",
        "\n",
        "**Tools Used**:\n",
        "- Python (pandas, numpy) for cleaning\n",
        "- R (ggplot2, corrplot) for visualizations"
      ]
    },
    {
      "cell_type": "markdown",
      "metadata": {},
      "source": [
        "I start by importing the data and taking a quick look at the structure."
      ]
    },
    {
      "cell_type": "code",
      "execution_count": 4,
      "metadata": {
        "colab": {
          "base_uri": "https://localhost:8080/",
          "height": 1000
        },
        "id": "eeQXYLHdLCut",
        "outputId": "1c5f0108-2c72-4636-cd93-736009ca403d"
      },
      "outputs": [
        {
          "data": {
            "text/html": [
              "<div>\n",
              "<style scoped>\n",
              "    .dataframe tbody tr th:only-of-type {\n",
              "        vertical-align: middle;\n",
              "    }\n",
              "\n",
              "    .dataframe tbody tr th {\n",
              "        vertical-align: top;\n",
              "    }\n",
              "\n",
              "    .dataframe thead th {\n",
              "        text-align: right;\n",
              "    }\n",
              "</style>\n",
              "<table border=\"1\" class=\"dataframe\">\n",
              "  <thead>\n",
              "    <tr style=\"text-align: right;\">\n",
              "      <th></th>\n",
              "      <th>Make</th>\n",
              "      <th>Model</th>\n",
              "      <th>Year</th>\n",
              "      <th>Engine Fuel Type</th>\n",
              "      <th>Engine HP</th>\n",
              "      <th>Engine Cylinders</th>\n",
              "      <th>Transmission Type</th>\n",
              "      <th>Driven_Wheels</th>\n",
              "      <th>Number of Doors</th>\n",
              "      <th>Market Category</th>\n",
              "      <th>Vehicle Size</th>\n",
              "      <th>Vehicle Style</th>\n",
              "      <th>highway MPG</th>\n",
              "      <th>city mpg</th>\n",
              "      <th>Popularity</th>\n",
              "      <th>MSRP</th>\n",
              "    </tr>\n",
              "  </thead>\n",
              "  <tbody>\n",
              "    <tr>\n",
              "      <th>0</th>\n",
              "      <td>BMW</td>\n",
              "      <td>1 Series M</td>\n",
              "      <td>2011</td>\n",
              "      <td>premium unleaded (required)</td>\n",
              "      <td>335.0</td>\n",
              "      <td>6.0</td>\n",
              "      <td>MANUAL</td>\n",
              "      <td>rear wheel drive</td>\n",
              "      <td>2.0</td>\n",
              "      <td>Factory Tuner,Luxury,High-Performance</td>\n",
              "      <td>Compact</td>\n",
              "      <td>Coupe</td>\n",
              "      <td>26</td>\n",
              "      <td>19</td>\n",
              "      <td>3916</td>\n",
              "      <td>46135</td>\n",
              "    </tr>\n",
              "    <tr>\n",
              "      <th>1</th>\n",
              "      <td>BMW</td>\n",
              "      <td>1 Series</td>\n",
              "      <td>2011</td>\n",
              "      <td>premium unleaded (required)</td>\n",
              "      <td>300.0</td>\n",
              "      <td>6.0</td>\n",
              "      <td>MANUAL</td>\n",
              "      <td>rear wheel drive</td>\n",
              "      <td>2.0</td>\n",
              "      <td>Luxury,Performance</td>\n",
              "      <td>Compact</td>\n",
              "      <td>Convertible</td>\n",
              "      <td>28</td>\n",
              "      <td>19</td>\n",
              "      <td>3916</td>\n",
              "      <td>40650</td>\n",
              "    </tr>\n",
              "    <tr>\n",
              "      <th>2</th>\n",
              "      <td>BMW</td>\n",
              "      <td>1 Series</td>\n",
              "      <td>2011</td>\n",
              "      <td>premium unleaded (required)</td>\n",
              "      <td>300.0</td>\n",
              "      <td>6.0</td>\n",
              "      <td>MANUAL</td>\n",
              "      <td>rear wheel drive</td>\n",
              "      <td>2.0</td>\n",
              "      <td>Luxury,High-Performance</td>\n",
              "      <td>Compact</td>\n",
              "      <td>Coupe</td>\n",
              "      <td>28</td>\n",
              "      <td>20</td>\n",
              "      <td>3916</td>\n",
              "      <td>36350</td>\n",
              "    </tr>\n",
              "    <tr>\n",
              "      <th>3</th>\n",
              "      <td>BMW</td>\n",
              "      <td>1 Series</td>\n",
              "      <td>2011</td>\n",
              "      <td>premium unleaded (required)</td>\n",
              "      <td>230.0</td>\n",
              "      <td>6.0</td>\n",
              "      <td>MANUAL</td>\n",
              "      <td>rear wheel drive</td>\n",
              "      <td>2.0</td>\n",
              "      <td>Luxury,Performance</td>\n",
              "      <td>Compact</td>\n",
              "      <td>Coupe</td>\n",
              "      <td>28</td>\n",
              "      <td>18</td>\n",
              "      <td>3916</td>\n",
              "      <td>29450</td>\n",
              "    </tr>\n",
              "    <tr>\n",
              "      <th>4</th>\n",
              "      <td>BMW</td>\n",
              "      <td>1 Series</td>\n",
              "      <td>2011</td>\n",
              "      <td>premium unleaded (required)</td>\n",
              "      <td>230.0</td>\n",
              "      <td>6.0</td>\n",
              "      <td>MANUAL</td>\n",
              "      <td>rear wheel drive</td>\n",
              "      <td>2.0</td>\n",
              "      <td>Luxury</td>\n",
              "      <td>Compact</td>\n",
              "      <td>Convertible</td>\n",
              "      <td>28</td>\n",
              "      <td>18</td>\n",
              "      <td>3916</td>\n",
              "      <td>34500</td>\n",
              "    </tr>\n",
              "  </tbody>\n",
              "</table>\n",
              "</div>"
            ],
            "text/plain": [
              "  Make       Model  Year             Engine Fuel Type  Engine HP  \\\n",
              "0  BMW  1 Series M  2011  premium unleaded (required)      335.0   \n",
              "1  BMW    1 Series  2011  premium unleaded (required)      300.0   \n",
              "2  BMW    1 Series  2011  premium unleaded (required)      300.0   \n",
              "3  BMW    1 Series  2011  premium unleaded (required)      230.0   \n",
              "4  BMW    1 Series  2011  premium unleaded (required)      230.0   \n",
              "\n",
              "   Engine Cylinders Transmission Type     Driven_Wheels  Number of Doors  \\\n",
              "0               6.0            MANUAL  rear wheel drive              2.0   \n",
              "1               6.0            MANUAL  rear wheel drive              2.0   \n",
              "2               6.0            MANUAL  rear wheel drive              2.0   \n",
              "3               6.0            MANUAL  rear wheel drive              2.0   \n",
              "4               6.0            MANUAL  rear wheel drive              2.0   \n",
              "\n",
              "                         Market Category Vehicle Size Vehicle Style  \\\n",
              "0  Factory Tuner,Luxury,High-Performance      Compact         Coupe   \n",
              "1                     Luxury,Performance      Compact   Convertible   \n",
              "2                Luxury,High-Performance      Compact         Coupe   \n",
              "3                     Luxury,Performance      Compact         Coupe   \n",
              "4                                 Luxury      Compact   Convertible   \n",
              "\n",
              "   highway MPG  city mpg  Popularity   MSRP  \n",
              "0           26        19        3916  46135  \n",
              "1           28        19        3916  40650  \n",
              "2           28        20        3916  36350  \n",
              "3           28        18        3916  29450  \n",
              "4           28        18        3916  34500  "
            ]
          },
          "execution_count": 4,
          "metadata": {},
          "output_type": "execute_result"
        }
      ],
      "source": [
        "import pandas as pd\n",
        "import numpy as np\n",
        "import matplotlib.pyplot as plt\n",
        "import seaborn as sns\n",
        "import os\n",
        "\n",
        "data_path = os.path.join(\"..\", \"data\", \"car_data.csv\")\n",
        "df_car = pd.read_csv(data_path)\n",
        "\n",
        "df_car.head()"
      ]
    },
    {
      "cell_type": "markdown",
      "metadata": {},
      "source": [
        "## 3. Process\n",
        "\n",
        "### Handling Missing Values\n",
        "- Engine HP: Filled with median\n",
        "- Fuel Type: Filled with most common value (mode) if ratio > 60%\n",
        "- Engine Cylinders: Filled with most frequent value"
      ]
    },
    {
      "cell_type": "code",
      "execution_count": 5,
      "metadata": {
        "colab": {
          "base_uri": "https://localhost:8080/",
          "height": 241
        },
        "id": "S3An1pxjJZm_",
        "outputId": "810392ad-0973-4800-89b5-0dcea8d6ba49"
      },
      "outputs": [
        {
          "data": {
            "text/plain": [
              "Engine Fuel Type       3\n",
              "Engine HP             69\n",
              "Engine Cylinders      30\n",
              "Number of Doors        6\n",
              "Market Category     3742\n",
              "dtype: int64"
            ]
          },
          "execution_count": 5,
          "metadata": {},
          "output_type": "execute_result"
        }
      ],
      "source": [
        "# Checking NaN\n",
        "\n",
        "nan_count = df_car.isna().sum()\n",
        "nan_count[nan_count > 0]"
      ]
    },
    {
      "cell_type": "markdown",
      "metadata": {
        "id": "4GZZGYcgHQJi"
      },
      "source": [
        "\"Fuel Type Engine\""
      ]
    },
    {
      "cell_type": "code",
      "execution_count": 6,
      "metadata": {
        "colab": {
          "base_uri": "https://localhost:8080/"
        },
        "id": "yPqXXbWeQhU2",
        "outputId": "4ca3088c-f6ea-426c-b92f-25cc6f200cda"
      },
      "outputs": [
        {
          "name": "stdout",
          "output_type": "stream",
          "text": [
            "regular unleaded\n",
            "7172\n",
            "60.21\n"
          ]
        }
      ],
      "source": [
        "# Which value appears the most?\n",
        "\n",
        "most_common_fuel = df_car[\"Engine Fuel Type\"].mode()[0]\n",
        "count_of_most_common_fuel = df_car[\"Engine Fuel Type\"].value_counts().iloc[0]\n",
        "total_count_fuel = df_car[\"Engine Fuel Type\"].value_counts().sum()\n",
        "most_common_ratio_fuel = round(count_of_most_common_fuel / total_count_fuel * 100, 2)\n",
        "print(most_common_fuel)\n",
        "print(count_of_most_common_fuel)\n",
        "print(most_common_ratio_fuel)\n"
      ]
    },
    {
      "cell_type": "markdown",
      "metadata": {
        "id": "FBuQQyNDXJaz"
      },
      "source": [
        "Because of the ratio (60.21 %) I decided to fill the NaN values with the most common value."
      ]
    },
    {
      "cell_type": "code",
      "execution_count": 7,
      "metadata": {
        "colab": {
          "base_uri": "https://localhost:8080/"
        },
        "id": "yz7ba4tvGggE",
        "outputId": "4b584dfe-bb5b-430b-ef2c-4bce226e5053"
      },
      "outputs": [
        {
          "data": {
            "text/plain": [
              "0"
            ]
          },
          "execution_count": 7,
          "metadata": {},
          "output_type": "execute_result"
        }
      ],
      "source": [
        "# Filling the NaN values with most_common\n",
        "\n",
        "df_car[\"Engine Fuel Type new\"] = df_car[\"Engine Fuel Type\"].fillna(most_common_fuel)\n",
        "df_car[\"Engine Fuel Type new\"].isna().sum()"
      ]
    },
    {
      "cell_type": "markdown",
      "metadata": {
        "id": "4S5aFN7sHf-Q"
      },
      "source": [
        "\"Engine HP\""
      ]
    },
    {
      "cell_type": "code",
      "execution_count": 8,
      "metadata": {
        "colab": {
          "base_uri": "https://localhost:8080/"
        },
        "id": "gLepKvZaHlgc",
        "outputId": "166d21dd-fa3b-4a3c-a973-bd7ee37a9e96"
      },
      "outputs": [
        {
          "name": "stdout",
          "output_type": "stream",
          "text": [
            "Min: 55.0\n",
            "Max: 1001.0\n",
            "Avg: 249.4\n",
            "Median: 227.0\n"
          ]
        }
      ],
      "source": [
        "# Mean, min and max of \"Engine HP\"\n",
        "\n",
        "min_hp = df_car[\"Engine HP\"].min()\n",
        "max_hp = df_car[\"Engine HP\"].max()\n",
        "avg_hp = df_car[\"Engine HP\"].mean()\n",
        "median_hp = df_car[\"Engine HP\"].median()\n",
        "print(\"Min:\", round(min_hp, 1))\n",
        "print(\"Max:\", round(max_hp, 1))\n",
        "print(\"Avg:\", round(avg_hp, 1))\n",
        "print(\"Median:\", round(median_hp, 1))"
      ]
    },
    {
      "cell_type": "markdown",
      "metadata": {
        "id": "Cl9PrV3xJ0qc"
      },
      "source": [
        "After comparing mean and median according to the min and max values, I decided to fill the NaN values in \"Engine HP\" with the median."
      ]
    },
    {
      "cell_type": "code",
      "execution_count": 9,
      "metadata": {
        "colab": {
          "base_uri": "https://localhost:8080/"
        },
        "id": "nk7B86CtKGNa",
        "outputId": "173519c6-a22e-404b-9e46-2d9c2a2c2d94"
      },
      "outputs": [
        {
          "data": {
            "text/plain": [
              "0"
            ]
          },
          "execution_count": 9,
          "metadata": {},
          "output_type": "execute_result"
        }
      ],
      "source": [
        "# Filling missing values with median\n",
        "\n",
        "df_car[\"Engine HP new\"] = df_car[\"Engine HP\"].fillna(df_car[\"Engine HP\"].median())\n",
        "df_car[\"Engine HP new\"].isna().sum()"
      ]
    },
    {
      "cell_type": "markdown",
      "metadata": {
        "id": "OL1beeRTKZlI"
      },
      "source": [
        "\"Engine Cylinders\""
      ]
    },
    {
      "cell_type": "code",
      "execution_count": 10,
      "metadata": {
        "colab": {
          "base_uri": "https://localhost:8080/"
        },
        "id": "fP9Yyat2VjKL",
        "outputId": "a7641ca7-6f80-434a-c5c0-49953b279241"
      },
      "outputs": [
        {
          "name": "stdout",
          "output_type": "stream",
          "text": [
            "4.0\n",
            "4752\n",
            "39.99\n"
          ]
        }
      ],
      "source": [
        "# Which value appears the most?\n",
        "\n",
        "most_common_cyl = df_car[\"Engine Cylinders\"].mode()[0]\n",
        "count_of_most_common_cyl = df_car[\"Engine Cylinders\"].value_counts().iloc[0]\n",
        "total_count_cyl = df_car[\"Engine Cylinders\"].value_counts().sum()\n",
        "most_common_ratio_cyl = round(count_of_most_common_cyl / total_count_cyl * 100, 2)\n",
        "print(most_common_cyl)\n",
        "print(count_of_most_common_cyl)\n",
        "print(most_common_ratio_cyl)"
      ]
    },
    {
      "cell_type": "markdown",
      "metadata": {
        "id": "ohqm2KVrXiw5"
      },
      "source": [
        "It is similar to the \"Fuel Type Engine\" column, NaN values will be replaced with the most common value in a new column."
      ]
    },
    {
      "cell_type": "code",
      "execution_count": 11,
      "metadata": {
        "colab": {
          "base_uri": "https://localhost:8080/"
        },
        "id": "cuoPnNU2X0we",
        "outputId": "d963ee55-3df0-48a9-86db-13949f673831"
      },
      "outputs": [
        {
          "data": {
            "text/plain": [
              "0"
            ]
          },
          "execution_count": 11,
          "metadata": {},
          "output_type": "execute_result"
        }
      ],
      "source": [
        "# Filling the NaN values with most_common\n",
        "\n",
        "df_car[\"Engine Cylinders new\"] = df_car[\"Engine Cylinders\"].fillna(most_common_cyl)\n",
        "df_car[\"Engine Cylinders new\"].isna().sum()"
      ]
    },
    {
      "cell_type": "markdown",
      "metadata": {
        "id": "G2ImwKvhYRD3"
      },
      "source": [
        "\"Number of Doors\""
      ]
    },
    {
      "cell_type": "code",
      "execution_count": 12,
      "metadata": {
        "colab": {
          "base_uri": "https://localhost:8080/"
        },
        "id": "kVwpbOpgYnIo",
        "outputId": "8a31d941-8d76-4f64-eeb4-53c006727e3e"
      },
      "outputs": [
        {
          "name": "stdout",
          "output_type": "stream",
          "text": [
            "4.0\n",
            "8353\n",
            "70.15\n"
          ]
        }
      ],
      "source": [
        "# Which value appears the most?\n",
        "\n",
        "most_common_doors = df_car[\"Number of Doors\"].mode()[0]\n",
        "count_of_most_common_doors = df_car[\"Number of Doors\"].value_counts().iloc[0]\n",
        "total_count_doors = df_car[\"Number of Doors\"].value_counts().sum()\n",
        "most_common_ratio_doors = round(count_of_most_common_doors / total_count_doors * 100, 2)\n",
        "print(most_common_doors)\n",
        "print(count_of_most_common_doors)\n",
        "print(most_common_ratio_doors)"
      ]
    },
    {
      "cell_type": "markdown",
      "metadata": {
        "id": "3HR0bRnhZAkT"
      },
      "source": [
        "It is similar to the \"Fuel Type Engine\" column, NaN values will be replaced with the most common value in a new column."
      ]
    },
    {
      "cell_type": "code",
      "execution_count": 13,
      "metadata": {
        "colab": {
          "base_uri": "https://localhost:8080/"
        },
        "id": "vj62V8lwZIP1",
        "outputId": "c8289e41-7e9c-4d6e-93b9-41974a96a943"
      },
      "outputs": [
        {
          "data": {
            "text/plain": [
              "0"
            ]
          },
          "execution_count": 13,
          "metadata": {},
          "output_type": "execute_result"
        }
      ],
      "source": [
        "# Filling the NaN values with most_common\n",
        "\n",
        "df_car[\"Number of Doors new\"] = df_car[\"Number of Doors\"].fillna(most_common_doors)\n",
        "df_car[\"Number of Doors new\"].isna().sum()"
      ]
    },
    {
      "cell_type": "markdown",
      "metadata": {
        "id": "sGG1z7XOZQ9W"
      },
      "source": [
        "\"Market Category\""
      ]
    },
    {
      "cell_type": "markdown",
      "metadata": {
        "id": "8iM8Y8kKaIgA"
      },
      "source": [
        "Here I will use another way to fill the missing values. The goal is to fill the NaN value with values from similar cars."
      ]
    },
    {
      "cell_type": "code",
      "execution_count": 14,
      "metadata": {
        "id": "uNSZjEandBHA"
      },
      "outputs": [],
      "source": [
        "# Searching rows with NaN values in \"Market Category\"\n",
        "\n",
        "nan_rows_cat = df_car[df_car[\"Market Category\"].isna()]"
      ]
    },
    {
      "cell_type": "code",
      "execution_count": 15,
      "metadata": {
        "id": "FcazA_MpdySN"
      },
      "outputs": [],
      "source": [
        "# Searching rows without NaN values in \"Market Category\"\n",
        "non_nan_rows = df_car[df_car[\"Market Category\"].notna()]"
      ]
    },
    {
      "cell_type": "code",
      "execution_count": 16,
      "metadata": {
        "id": "wz5AHK2FeNX7"
      },
      "outputs": [],
      "source": [
        "# Creating a dictionary with combinations of \"Make\", \"Model\", \"Engine HP\", \"Number of Doors\" and the specific \"Market Category\"\n",
        "\n",
        "market_cat_dict = non_nan_rows.set_index(\n",
        "    [\"Make\", \"Model\", \"Engine HP\", \"Number of Doors\"]\n",
        ")[\"Market Category\"].to_dict()"
      ]
    },
    {
      "cell_type": "code",
      "execution_count": 17,
      "metadata": {
        "id": "CSQ0a6tngIRV"
      },
      "outputs": [],
      "source": [
        "# Defining a function to fill the NaN values\n",
        "\n",
        "def fill_missing_cat(row):\n",
        "  if pd.isna(row[\"Market Category\"]):\n",
        "    key = (row[\"Make\"], row[\"Model\"], row[\"Engine HP\"], row[\"Number of Doors\"])\n",
        "    if key in market_cat_dict:\n",
        "      return market_cat_dict[key]\n",
        "  return row[\"Market Category\"]"
      ]
    },
    {
      "cell_type": "code",
      "execution_count": 18,
      "metadata": {
        "colab": {
          "base_uri": "https://localhost:8080/"
        },
        "id": "6J57Gngeh6Nv",
        "outputId": "72f78131-07a9-42fd-d1ea-3cef7156eaac"
      },
      "outputs": [
        {
          "data": {
            "text/plain": [
              "3150"
            ]
          },
          "execution_count": 18,
          "metadata": {},
          "output_type": "execute_result"
        }
      ],
      "source": [
        "# Using the function to create a new column with filled NaN values\n",
        "\n",
        "df_car[\"Market Category new\"] = df_car.apply(fill_missing_cat, axis=1)\n",
        "\n",
        "# Checking number of NaN values after filling\n",
        "\n",
        "df_car[\"Market Category new\"].isna().sum()"
      ]
    },
    {
      "cell_type": "markdown",
      "metadata": {
        "id": "sSvzrscJi3_V"
      },
      "source": [
        "Nearly 600 rows were filled with best fitting categories. The rest need either more attention or should be filled with another value. In this case I will fill the NaN values with 'Unknown'.\n",
        "For future cleaning processes trying some other combinations could be a good method."
      ]
    },
    {
      "cell_type": "code",
      "execution_count": 19,
      "metadata": {
        "colab": {
          "base_uri": "https://localhost:8080/"
        },
        "id": "UR3tBw18jrDM",
        "outputId": "b0e182e7-fdf0-45ff-90fe-4e13c768eb08"
      },
      "outputs": [
        {
          "data": {
            "text/plain": [
              "0"
            ]
          },
          "execution_count": 19,
          "metadata": {},
          "output_type": "execute_result"
        }
      ],
      "source": [
        "# Filling missing values with \"Unknown\"\n",
        "\n",
        "df_car[\"Market Category new\"] = df_car[\"Market Category new\"].fillna(\"Unknown\")\n",
        "df_car[\"Market Category new\"].isna().sum()"
      ]
    },
    {
      "cell_type": "markdown",
      "metadata": {},
      "source": [
        "Dropping Duplicates"
      ]
    },
    {
      "cell_type": "code",
      "execution_count": 20,
      "metadata": {
        "id": "wzUYbzm_wg87"
      },
      "outputs": [],
      "source": [
        "df_car.drop_duplicates(keep=\"first\", inplace=True)"
      ]
    },
    {
      "cell_type": "markdown",
      "metadata": {
        "id": "LVkZSt0t1hA5"
      },
      "source": [
        "Standardizing entries\n",
        "\n",
        "Some entries can be put together, because there is no real difference between them. I will check a few columns to see where I can make changes."
      ]
    },
    {
      "cell_type": "code",
      "execution_count": 21,
      "metadata": {
        "colab": {
          "base_uri": "https://localhost:8080/",
          "height": 452
        },
        "id": "AM0ACSKz2iXW",
        "outputId": "48cea178-b56d-48f1-8174-7f375a23e00a"
      },
      "outputs": [
        {
          "data": {
            "text/html": [
              "<div>\n",
              "<style scoped>\n",
              "    .dataframe tbody tr th:only-of-type {\n",
              "        vertical-align: middle;\n",
              "    }\n",
              "\n",
              "    .dataframe tbody tr th {\n",
              "        vertical-align: top;\n",
              "    }\n",
              "\n",
              "    .dataframe thead th {\n",
              "        text-align: right;\n",
              "    }\n",
              "</style>\n",
              "<table border=\"1\" class=\"dataframe\">\n",
              "  <thead>\n",
              "    <tr style=\"text-align: right;\">\n",
              "      <th></th>\n",
              "      <th>Make</th>\n",
              "      <th>Model</th>\n",
              "      <th>Year</th>\n",
              "      <th>Engine Fuel Type</th>\n",
              "      <th>Engine HP</th>\n",
              "      <th>Engine Cylinders</th>\n",
              "      <th>Transmission Type</th>\n",
              "      <th>Driven_Wheels</th>\n",
              "      <th>Number of Doors</th>\n",
              "      <th>Market Category</th>\n",
              "      <th>...</th>\n",
              "      <th>Vehicle Style</th>\n",
              "      <th>highway MPG</th>\n",
              "      <th>city mpg</th>\n",
              "      <th>Popularity</th>\n",
              "      <th>MSRP</th>\n",
              "      <th>Engine Fuel Type new</th>\n",
              "      <th>Engine HP new</th>\n",
              "      <th>Engine Cylinders new</th>\n",
              "      <th>Number of Doors new</th>\n",
              "      <th>Market Category new</th>\n",
              "    </tr>\n",
              "  </thead>\n",
              "  <tbody>\n",
              "    <tr>\n",
              "      <th>0</th>\n",
              "      <td>BMW</td>\n",
              "      <td>1 Series M</td>\n",
              "      <td>2011</td>\n",
              "      <td>premium unleaded (required)</td>\n",
              "      <td>335.0</td>\n",
              "      <td>6.0</td>\n",
              "      <td>MANUAL</td>\n",
              "      <td>rear wheel drive</td>\n",
              "      <td>2.0</td>\n",
              "      <td>Factory Tuner,Luxury,High-Performance</td>\n",
              "      <td>...</td>\n",
              "      <td>Coupe</td>\n",
              "      <td>26</td>\n",
              "      <td>19</td>\n",
              "      <td>3916</td>\n",
              "      <td>46135</td>\n",
              "      <td>premium unleaded (required)</td>\n",
              "      <td>335.0</td>\n",
              "      <td>6.0</td>\n",
              "      <td>2.0</td>\n",
              "      <td>Factory Tuner,Luxury,High-Performance</td>\n",
              "    </tr>\n",
              "    <tr>\n",
              "      <th>1</th>\n",
              "      <td>BMW</td>\n",
              "      <td>1 Series</td>\n",
              "      <td>2011</td>\n",
              "      <td>premium unleaded (required)</td>\n",
              "      <td>300.0</td>\n",
              "      <td>6.0</td>\n",
              "      <td>MANUAL</td>\n",
              "      <td>rear wheel drive</td>\n",
              "      <td>2.0</td>\n",
              "      <td>Luxury,Performance</td>\n",
              "      <td>...</td>\n",
              "      <td>Convertible</td>\n",
              "      <td>28</td>\n",
              "      <td>19</td>\n",
              "      <td>3916</td>\n",
              "      <td>40650</td>\n",
              "      <td>premium unleaded (required)</td>\n",
              "      <td>300.0</td>\n",
              "      <td>6.0</td>\n",
              "      <td>2.0</td>\n",
              "      <td>Luxury,Performance</td>\n",
              "    </tr>\n",
              "    <tr>\n",
              "      <th>2</th>\n",
              "      <td>BMW</td>\n",
              "      <td>1 Series</td>\n",
              "      <td>2011</td>\n",
              "      <td>premium unleaded (required)</td>\n",
              "      <td>300.0</td>\n",
              "      <td>6.0</td>\n",
              "      <td>MANUAL</td>\n",
              "      <td>rear wheel drive</td>\n",
              "      <td>2.0</td>\n",
              "      <td>Luxury,High-Performance</td>\n",
              "      <td>...</td>\n",
              "      <td>Coupe</td>\n",
              "      <td>28</td>\n",
              "      <td>20</td>\n",
              "      <td>3916</td>\n",
              "      <td>36350</td>\n",
              "      <td>premium unleaded (required)</td>\n",
              "      <td>300.0</td>\n",
              "      <td>6.0</td>\n",
              "      <td>2.0</td>\n",
              "      <td>Luxury,High-Performance</td>\n",
              "    </tr>\n",
              "    <tr>\n",
              "      <th>3</th>\n",
              "      <td>BMW</td>\n",
              "      <td>1 Series</td>\n",
              "      <td>2011</td>\n",
              "      <td>premium unleaded (required)</td>\n",
              "      <td>230.0</td>\n",
              "      <td>6.0</td>\n",
              "      <td>MANUAL</td>\n",
              "      <td>rear wheel drive</td>\n",
              "      <td>2.0</td>\n",
              "      <td>Luxury,Performance</td>\n",
              "      <td>...</td>\n",
              "      <td>Coupe</td>\n",
              "      <td>28</td>\n",
              "      <td>18</td>\n",
              "      <td>3916</td>\n",
              "      <td>29450</td>\n",
              "      <td>premium unleaded (required)</td>\n",
              "      <td>230.0</td>\n",
              "      <td>6.0</td>\n",
              "      <td>2.0</td>\n",
              "      <td>Luxury,Performance</td>\n",
              "    </tr>\n",
              "    <tr>\n",
              "      <th>4</th>\n",
              "      <td>BMW</td>\n",
              "      <td>1 Series</td>\n",
              "      <td>2011</td>\n",
              "      <td>premium unleaded (required)</td>\n",
              "      <td>230.0</td>\n",
              "      <td>6.0</td>\n",
              "      <td>MANUAL</td>\n",
              "      <td>rear wheel drive</td>\n",
              "      <td>2.0</td>\n",
              "      <td>Luxury</td>\n",
              "      <td>...</td>\n",
              "      <td>Convertible</td>\n",
              "      <td>28</td>\n",
              "      <td>18</td>\n",
              "      <td>3916</td>\n",
              "      <td>34500</td>\n",
              "      <td>premium unleaded (required)</td>\n",
              "      <td>230.0</td>\n",
              "      <td>6.0</td>\n",
              "      <td>2.0</td>\n",
              "      <td>Luxury</td>\n",
              "    </tr>\n",
              "  </tbody>\n",
              "</table>\n",
              "<p>5 rows × 21 columns</p>\n",
              "</div>"
            ],
            "text/plain": [
              "  Make       Model  Year             Engine Fuel Type  Engine HP  \\\n",
              "0  BMW  1 Series M  2011  premium unleaded (required)      335.0   \n",
              "1  BMW    1 Series  2011  premium unleaded (required)      300.0   \n",
              "2  BMW    1 Series  2011  premium unleaded (required)      300.0   \n",
              "3  BMW    1 Series  2011  premium unleaded (required)      230.0   \n",
              "4  BMW    1 Series  2011  premium unleaded (required)      230.0   \n",
              "\n",
              "   Engine Cylinders Transmission Type     Driven_Wheels  Number of Doors  \\\n",
              "0               6.0            MANUAL  rear wheel drive              2.0   \n",
              "1               6.0            MANUAL  rear wheel drive              2.0   \n",
              "2               6.0            MANUAL  rear wheel drive              2.0   \n",
              "3               6.0            MANUAL  rear wheel drive              2.0   \n",
              "4               6.0            MANUAL  rear wheel drive              2.0   \n",
              "\n",
              "                         Market Category  ... Vehicle Style highway MPG  \\\n",
              "0  Factory Tuner,Luxury,High-Performance  ...         Coupe          26   \n",
              "1                     Luxury,Performance  ...   Convertible          28   \n",
              "2                Luxury,High-Performance  ...         Coupe          28   \n",
              "3                     Luxury,Performance  ...         Coupe          28   \n",
              "4                                 Luxury  ...   Convertible          28   \n",
              "\n",
              "   city mpg  Popularity   MSRP         Engine Fuel Type new Engine HP new  \\\n",
              "0        19        3916  46135  premium unleaded (required)         335.0   \n",
              "1        19        3916  40650  premium unleaded (required)         300.0   \n",
              "2        20        3916  36350  premium unleaded (required)         300.0   \n",
              "3        18        3916  29450  premium unleaded (required)         230.0   \n",
              "4        18        3916  34500  premium unleaded (required)         230.0   \n",
              "\n",
              "   Engine Cylinders new  Number of Doors new  \\\n",
              "0                   6.0                  2.0   \n",
              "1                   6.0                  2.0   \n",
              "2                   6.0                  2.0   \n",
              "3                   6.0                  2.0   \n",
              "4                   6.0                  2.0   \n",
              "\n",
              "                     Market Category new  \n",
              "0  Factory Tuner,Luxury,High-Performance  \n",
              "1                     Luxury,Performance  \n",
              "2                Luxury,High-Performance  \n",
              "3                     Luxury,Performance  \n",
              "4                                 Luxury  \n",
              "\n",
              "[5 rows x 21 columns]"
            ]
          },
          "execution_count": 21,
          "metadata": {},
          "output_type": "execute_result"
        }
      ],
      "source": [
        "df_car.head()"
      ]
    },
    {
      "cell_type": "code",
      "execution_count": 22,
      "metadata": {
        "colab": {
          "base_uri": "https://localhost:8080/"
        },
        "id": "erB08Q2p2ALB",
        "outputId": "0b118009-9adb-4378-9567-6e6d180f9d38"
      },
      "outputs": [
        {
          "data": {
            "text/plain": [
              "['rear wheel drive',\n",
              " 'front wheel drive',\n",
              " 'all wheel drive',\n",
              " 'four wheel drive']"
            ]
          },
          "execution_count": 22,
          "metadata": {},
          "output_type": "execute_result"
        }
      ],
      "source": [
        "list(df_car[\"Driven_Wheels\"].unique())"
      ]
    },
    {
      "cell_type": "code",
      "execution_count": 23,
      "metadata": {
        "colab": {
          "base_uri": "https://localhost:8080/"
        },
        "id": "ITS3nLt322ov",
        "outputId": "f57f2832-9a19-4f4f-829b-247190d2836e"
      },
      "outputs": [
        {
          "data": {
            "text/plain": [
              "['rear wheel drive', 'front wheel drive', 'all wheel drive']"
            ]
          },
          "execution_count": 23,
          "metadata": {},
          "output_type": "execute_result"
        }
      ],
      "source": [
        "# Replacing 'four wheel drive' with 'all wheel drive'\n",
        "\n",
        "df_car.loc[df_car[\"Driven_Wheels\"] == \"four wheel drive\", \"Driven_Wheels\"] = \"all wheel drive\"\n",
        "\n",
        "list(df_car[\"Driven_Wheels\"].unique())\n"
      ]
    },
    {
      "cell_type": "markdown",
      "metadata": {},
      "source": [
        "All models From 'Tesla' are electric vehicles, so there is no need to give a number of cylinders because they do not have any."
      ]
    },
    {
      "cell_type": "code",
      "execution_count": 24,
      "metadata": {
        "colab": {
          "base_uri": "https://localhost:8080/"
        },
        "id": "B2Ye-0No3iaM",
        "outputId": "5fcff64e-cbb6-44ed-f8a5-7d59ed6cca9a"
      },
      "outputs": [
        {
          "data": {
            "text/plain": [
              "array([0.])"
            ]
          },
          "execution_count": 24,
          "metadata": {},
          "output_type": "execute_result"
        }
      ],
      "source": [
        "# Replacing number of cylinders at Tesla with \"0.0\"\n",
        "\n",
        "df_car.loc[df_car[\"Make\"] == \"Tesla\", \"Engine Cylinders new\"] = df_car[\"Engine Cylinders new\"].replace(12.0, 0.0)\n",
        "\n",
        "df_car.loc[df_car[\"Make\"] == \"Tesla\", \"Engine Cylinders new\"].unique()"
      ]
    },
    {
      "cell_type": "markdown",
      "metadata": {},
      "source": [
        "I will check which data types are in the dataframe and then I will decide wether to change or not."
      ]
    },
    {
      "cell_type": "code",
      "execution_count": 25,
      "metadata": {
        "colab": {
          "base_uri": "https://localhost:8080/",
          "height": 743
        },
        "id": "okhv05wdla-S",
        "outputId": "124cb59e-7b2d-42aa-f688-da940b7ba17e"
      },
      "outputs": [
        {
          "data": {
            "text/plain": [
              "Make                     object\n",
              "Model                    object\n",
              "Year                      int64\n",
              "Engine Fuel Type         object\n",
              "Engine HP               float64\n",
              "Engine Cylinders        float64\n",
              "Transmission Type        object\n",
              "Driven_Wheels            object\n",
              "Number of Doors         float64\n",
              "Market Category          object\n",
              "Vehicle Size             object\n",
              "Vehicle Style            object\n",
              "highway MPG               int64\n",
              "city mpg                  int64\n",
              "Popularity                int64\n",
              "MSRP                      int64\n",
              "Engine Fuel Type new     object\n",
              "Engine HP new           float64\n",
              "Engine Cylinders new    float64\n",
              "Number of Doors new     float64\n",
              "Market Category new      object\n",
              "dtype: object"
            ]
          },
          "execution_count": 25,
          "metadata": {},
          "output_type": "execute_result"
        }
      ],
      "source": [
        "df_car.dtypes"
      ]
    },
    {
      "cell_type": "markdown",
      "metadata": {
        "id": "gtlaP9GHl1ON"
      },
      "source": [
        "In my opinion there is no need to change any data types except one columns but I will come to this later. Columns with qualitative values are in the right format, also the columns with qualitative values are either integers or floats.\n",
        "It is open to discussion wether to change colums like \"Engine HP\", \"Engine Cylinders\" or \"Number of Doors\" should remain as float or be converted to integer. There are no 2.78 doors or 6.39 cylinders. For now, I will use them in their given format.\n",
        "The only column I would like to change is the \"Make\" columns. Every value in \"Make\" is a real category and not a specific number like ID or VIN. Changing that columns to category could save storage and it can be faster for later actions. I will also change the \"Transmission Type\", \"Driven_Wheels\" and \"Vehicle Size\" columns to category.\n"
      ]
    },
    {
      "cell_type": "code",
      "execution_count": 26,
      "metadata": {
        "colab": {
          "base_uri": "https://localhost:8080/"
        },
        "id": "IBG6qKCs559u",
        "outputId": "af9363b4-e653-441b-c219-644a9231a14d"
      },
      "outputs": [
        {
          "name": "stdout",
          "output_type": "stream",
          "text": [
            "<class 'pandas.core.frame.DataFrame'>\n",
            "Index: 11199 entries, 0 to 11913\n",
            "Data columns (total 21 columns):\n",
            " #   Column                Non-Null Count  Dtype  \n",
            "---  ------                --------------  -----  \n",
            " 0   Make                  11199 non-null  object \n",
            " 1   Model                 11199 non-null  object \n",
            " 2   Year                  11199 non-null  int64  \n",
            " 3   Engine Fuel Type      11196 non-null  object \n",
            " 4   Engine HP             11130 non-null  float64\n",
            " 5   Engine Cylinders      11169 non-null  float64\n",
            " 6   Transmission Type     11199 non-null  object \n",
            " 7   Driven_Wheels         11199 non-null  object \n",
            " 8   Number of Doors       11193 non-null  float64\n",
            " 9   Market Category       7823 non-null   object \n",
            " 10  Vehicle Size          11199 non-null  object \n",
            " 11  Vehicle Style         11199 non-null  object \n",
            " 12  highway MPG           11199 non-null  int64  \n",
            " 13  city mpg              11199 non-null  int64  \n",
            " 14  Popularity            11199 non-null  int64  \n",
            " 15  MSRP                  11199 non-null  int64  \n",
            " 16  Engine Fuel Type new  11199 non-null  object \n",
            " 17  Engine HP new         11199 non-null  float64\n",
            " 18  Engine Cylinders new  11199 non-null  float64\n",
            " 19  Number of Doors new   11199 non-null  float64\n",
            " 20  Market Category new   11199 non-null  object \n",
            "dtypes: float64(6), int64(5), object(10)\n",
            "memory usage: 2.1+ MB\n"
          ]
        }
      ],
      "source": [
        "#Checking dataset before change\n",
        "\n",
        "df_car.info()"
      ]
    },
    {
      "cell_type": "code",
      "execution_count": 27,
      "metadata": {
        "id": "O5iCyiUjwDMx"
      },
      "outputs": [],
      "source": [
        "# Changing the data types\n",
        "\n",
        "df_car[\"Make\"] = df_car[\"Make\"].astype(\"category\")\n",
        "df_car[\"Driven_Wheels\"] = df_car[\"Driven_Wheels\"].astype(\"category\")\n",
        "df_car[\"Transmission Type\"] = df_car[\"Transmission Type\"].astype(\"category\")\n",
        "df_car[\"Vehicle Size\"] = df_car[\"Vehicle Size\"].astype(\"category\")"
      ]
    },
    {
      "cell_type": "code",
      "execution_count": 28,
      "metadata": {
        "colab": {
          "base_uri": "https://localhost:8080/"
        },
        "id": "rbZJzKe46DaE",
        "outputId": "06d40905-aa0a-45f3-ec4b-5897c8733c8f"
      },
      "outputs": [
        {
          "name": "stdout",
          "output_type": "stream",
          "text": [
            "<class 'pandas.core.frame.DataFrame'>\n",
            "Index: 11199 entries, 0 to 11913\n",
            "Data columns (total 21 columns):\n",
            " #   Column                Non-Null Count  Dtype   \n",
            "---  ------                --------------  -----   \n",
            " 0   Make                  11199 non-null  category\n",
            " 1   Model                 11199 non-null  object  \n",
            " 2   Year                  11199 non-null  int64   \n",
            " 3   Engine Fuel Type      11196 non-null  object  \n",
            " 4   Engine HP             11130 non-null  float64 \n",
            " 5   Engine Cylinders      11169 non-null  float64 \n",
            " 6   Transmission Type     11199 non-null  category\n",
            " 7   Driven_Wheels         11199 non-null  category\n",
            " 8   Number of Doors       11193 non-null  float64 \n",
            " 9   Market Category       7823 non-null   object  \n",
            " 10  Vehicle Size          11199 non-null  category\n",
            " 11  Vehicle Style         11199 non-null  object  \n",
            " 12  highway MPG           11199 non-null  int64   \n",
            " 13  city mpg              11199 non-null  int64   \n",
            " 14  Popularity            11199 non-null  int64   \n",
            " 15  MSRP                  11199 non-null  int64   \n",
            " 16  Engine Fuel Type new  11199 non-null  object  \n",
            " 17  Engine HP new         11199 non-null  float64 \n",
            " 18  Engine Cylinders new  11199 non-null  float64 \n",
            " 19  Number of Doors new   11199 non-null  float64 \n",
            " 20  Market Category new   11199 non-null  object  \n",
            "dtypes: category(4), float64(6), int64(5), object(6)\n",
            "memory usage: 1.8+ MB\n"
          ]
        }
      ],
      "source": [
        "df_car.info()"
      ]
    },
    {
      "cell_type": "markdown",
      "metadata": {
        "id": "f_MfS1fTpMkI"
      },
      "source": [
        "Filter Data\n",
        "\n",
        "I will filter the dataset to proceed only with cars build in 1995 and later."
      ]
    },
    {
      "cell_type": "code",
      "execution_count": 29,
      "metadata": {
        "colab": {
          "base_uri": "https://localhost:8080/"
        },
        "id": "b0R2LP-opSUo",
        "outputId": "6c30ecff-2647-4c44-9e80-ed13ad03c31b"
      },
      "outputs": [
        {
          "name": "stdout",
          "output_type": "stream",
          "text": [
            "Shape before filtering: (11199, 21)\n",
            "Shape after filtering: (10603, 21)\n"
          ]
        }
      ],
      "source": [
        "# Filtering the data for cars from the year 1995 and later\n",
        "\n",
        "df_car_filtered = df_car.loc[df_car[\"Year\"] >= 1995]\n",
        "print(\"Shape before filtering:\", df_car.shape)\n",
        "print(\"Shape after filtering:\", df_car_filtered.shape)"
      ]
    },
    {
      "cell_type": "markdown",
      "metadata": {
        "id": "RlVhLgeBqwgJ"
      },
      "source": [
        "Standardize text entries by converting these columns' entries to lowercase\n",
        "\n",
        "\n",
        "*   Vehicle Size\n",
        "*   Market category\n",
        "\n"
      ]
    },
    {
      "cell_type": "code",
      "execution_count": 30,
      "metadata": {
        "colab": {
          "base_uri": "https://localhost:8080/"
        },
        "id": "CiGkPhUOq2pX",
        "outputId": "b7478c1f-f487-410b-ec1e-f11a896b73bd"
      },
      "outputs": [
        {
          "name": "stderr",
          "output_type": "stream",
          "text": [
            "/var/folders/sj/yq8_zfcj0vg1v9dyw7qpp8rm0000gn/T/ipykernel_17051/862499426.py:3: FutureWarning: Setting an item of incompatible dtype is deprecated and will raise in a future error of pandas. Value '['compact' 'compact' 'compact' ... 'midsize' 'midsize' 'midsize']' has dtype incompatible with category, please explicitly cast to a compatible dtype first.\n",
            "  df_car_filtered.loc[:, \"Vehicle Size\"] = df_car_filtered[\"Vehicle Size\"].str.lower()\n"
          ]
        }
      ],
      "source": [
        "# Changing columns' entries to lowercase\n",
        "\n",
        "df_car_filtered.loc[:, \"Vehicle Size\"] = df_car_filtered[\"Vehicle Size\"].str.lower()\n",
        "df_car_filtered.loc[:, \"Market Category\"] = df_car_filtered[\"Market Category\"].str.lower()\n",
        "df_car_filtered.loc[:, \"Market Category new\"] = df_car_filtered[\"Market Category new\"].str.lower()"
      ]
    },
    {
      "cell_type": "markdown",
      "metadata": {},
      "source": [
        "Creating a new dataframe that includes all tasks of the cleaning process"
      ]
    },
    {
      "cell_type": "code",
      "execution_count": 31,
      "metadata": {
        "id": "rzXAFdR4vxwj"
      },
      "outputs": [],
      "source": [
        "# Setting up a new dataframe\n",
        "\n",
        "df_car_cleaned = df_car.loc[:, [\"Make\", \"Model\", \"Year\", \"Engine Fuel Type new\", \"Engine HP new\", \"Engine Cylinders new\", \"Transmission Type\", \"Driven_Wheels\", \"Number of Doors new\", \"Market Category new\", \"Vehicle Size\", \"Vehicle Style\", \"highway MPG\", \"city mpg\", \"Popularity\", \"MSRP\"]]"
      ]
    },
    {
      "cell_type": "code",
      "execution_count": 32,
      "metadata": {
        "colab": {
          "base_uri": "https://localhost:8080/",
          "height": 452
        },
        "id": "2L8ZPvQ9k6jF",
        "outputId": "ad40832b-8e55-4ac9-8ea2-6a1dddf4915b"
      },
      "outputs": [
        {
          "data": {
            "text/html": [
              "<div>\n",
              "<style scoped>\n",
              "    .dataframe tbody tr th:only-of-type {\n",
              "        vertical-align: middle;\n",
              "    }\n",
              "\n",
              "    .dataframe tbody tr th {\n",
              "        vertical-align: top;\n",
              "    }\n",
              "\n",
              "    .dataframe thead th {\n",
              "        text-align: right;\n",
              "    }\n",
              "</style>\n",
              "<table border=\"1\" class=\"dataframe\">\n",
              "  <thead>\n",
              "    <tr style=\"text-align: right;\">\n",
              "      <th></th>\n",
              "      <th>Make</th>\n",
              "      <th>Model</th>\n",
              "      <th>Year</th>\n",
              "      <th>Engine Fuel Type new</th>\n",
              "      <th>Engine HP new</th>\n",
              "      <th>Engine Cylinders new</th>\n",
              "      <th>Transmission Type</th>\n",
              "      <th>Driven_Wheels</th>\n",
              "      <th>Number of Doors new</th>\n",
              "      <th>Market Category new</th>\n",
              "      <th>Vehicle Size</th>\n",
              "      <th>Vehicle Style</th>\n",
              "      <th>highway MPG</th>\n",
              "      <th>city mpg</th>\n",
              "      <th>Popularity</th>\n",
              "      <th>MSRP</th>\n",
              "    </tr>\n",
              "  </thead>\n",
              "  <tbody>\n",
              "    <tr>\n",
              "      <th>0</th>\n",
              "      <td>BMW</td>\n",
              "      <td>1 Series M</td>\n",
              "      <td>2011</td>\n",
              "      <td>premium unleaded (required)</td>\n",
              "      <td>335.0</td>\n",
              "      <td>6.0</td>\n",
              "      <td>MANUAL</td>\n",
              "      <td>rear wheel drive</td>\n",
              "      <td>2.0</td>\n",
              "      <td>Factory Tuner,Luxury,High-Performance</td>\n",
              "      <td>Compact</td>\n",
              "      <td>Coupe</td>\n",
              "      <td>26</td>\n",
              "      <td>19</td>\n",
              "      <td>3916</td>\n",
              "      <td>46135</td>\n",
              "    </tr>\n",
              "    <tr>\n",
              "      <th>1</th>\n",
              "      <td>BMW</td>\n",
              "      <td>1 Series</td>\n",
              "      <td>2011</td>\n",
              "      <td>premium unleaded (required)</td>\n",
              "      <td>300.0</td>\n",
              "      <td>6.0</td>\n",
              "      <td>MANUAL</td>\n",
              "      <td>rear wheel drive</td>\n",
              "      <td>2.0</td>\n",
              "      <td>Luxury,Performance</td>\n",
              "      <td>Compact</td>\n",
              "      <td>Convertible</td>\n",
              "      <td>28</td>\n",
              "      <td>19</td>\n",
              "      <td>3916</td>\n",
              "      <td>40650</td>\n",
              "    </tr>\n",
              "    <tr>\n",
              "      <th>2</th>\n",
              "      <td>BMW</td>\n",
              "      <td>1 Series</td>\n",
              "      <td>2011</td>\n",
              "      <td>premium unleaded (required)</td>\n",
              "      <td>300.0</td>\n",
              "      <td>6.0</td>\n",
              "      <td>MANUAL</td>\n",
              "      <td>rear wheel drive</td>\n",
              "      <td>2.0</td>\n",
              "      <td>Luxury,High-Performance</td>\n",
              "      <td>Compact</td>\n",
              "      <td>Coupe</td>\n",
              "      <td>28</td>\n",
              "      <td>20</td>\n",
              "      <td>3916</td>\n",
              "      <td>36350</td>\n",
              "    </tr>\n",
              "    <tr>\n",
              "      <th>3</th>\n",
              "      <td>BMW</td>\n",
              "      <td>1 Series</td>\n",
              "      <td>2011</td>\n",
              "      <td>premium unleaded (required)</td>\n",
              "      <td>230.0</td>\n",
              "      <td>6.0</td>\n",
              "      <td>MANUAL</td>\n",
              "      <td>rear wheel drive</td>\n",
              "      <td>2.0</td>\n",
              "      <td>Luxury,Performance</td>\n",
              "      <td>Compact</td>\n",
              "      <td>Coupe</td>\n",
              "      <td>28</td>\n",
              "      <td>18</td>\n",
              "      <td>3916</td>\n",
              "      <td>29450</td>\n",
              "    </tr>\n",
              "    <tr>\n",
              "      <th>4</th>\n",
              "      <td>BMW</td>\n",
              "      <td>1 Series</td>\n",
              "      <td>2011</td>\n",
              "      <td>premium unleaded (required)</td>\n",
              "      <td>230.0</td>\n",
              "      <td>6.0</td>\n",
              "      <td>MANUAL</td>\n",
              "      <td>rear wheel drive</td>\n",
              "      <td>2.0</td>\n",
              "      <td>Luxury</td>\n",
              "      <td>Compact</td>\n",
              "      <td>Convertible</td>\n",
              "      <td>28</td>\n",
              "      <td>18</td>\n",
              "      <td>3916</td>\n",
              "      <td>34500</td>\n",
              "    </tr>\n",
              "  </tbody>\n",
              "</table>\n",
              "</div>"
            ],
            "text/plain": [
              "  Make       Model  Year         Engine Fuel Type new  Engine HP new  \\\n",
              "0  BMW  1 Series M  2011  premium unleaded (required)          335.0   \n",
              "1  BMW    1 Series  2011  premium unleaded (required)          300.0   \n",
              "2  BMW    1 Series  2011  premium unleaded (required)          300.0   \n",
              "3  BMW    1 Series  2011  premium unleaded (required)          230.0   \n",
              "4  BMW    1 Series  2011  premium unleaded (required)          230.0   \n",
              "\n",
              "   Engine Cylinders new Transmission Type     Driven_Wheels  \\\n",
              "0                   6.0            MANUAL  rear wheel drive   \n",
              "1                   6.0            MANUAL  rear wheel drive   \n",
              "2                   6.0            MANUAL  rear wheel drive   \n",
              "3                   6.0            MANUAL  rear wheel drive   \n",
              "4                   6.0            MANUAL  rear wheel drive   \n",
              "\n",
              "   Number of Doors new                    Market Category new Vehicle Size  \\\n",
              "0                  2.0  Factory Tuner,Luxury,High-Performance      Compact   \n",
              "1                  2.0                     Luxury,Performance      Compact   \n",
              "2                  2.0                Luxury,High-Performance      Compact   \n",
              "3                  2.0                     Luxury,Performance      Compact   \n",
              "4                  2.0                                 Luxury      Compact   \n",
              "\n",
              "  Vehicle Style  highway MPG  city mpg  Popularity   MSRP  \n",
              "0         Coupe           26        19        3916  46135  \n",
              "1   Convertible           28        19        3916  40650  \n",
              "2         Coupe           28        20        3916  36350  \n",
              "3         Coupe           28        18        3916  29450  \n",
              "4   Convertible           28        18        3916  34500  "
            ]
          },
          "execution_count": 32,
          "metadata": {},
          "output_type": "execute_result"
        }
      ],
      "source": [
        "df_car_cleaned.head()"
      ]
    },
    {
      "cell_type": "code",
      "execution_count": 33,
      "metadata": {
        "colab": {
          "base_uri": "https://localhost:8080/",
          "height": 300
        },
        "id": "TZ4ryFyHII_K",
        "outputId": "56c88649-33b1-4caa-cdf8-7078f71b04b3"
      },
      "outputs": [
        {
          "data": {
            "text/html": [
              "<div>\n",
              "<style scoped>\n",
              "    .dataframe tbody tr th:only-of-type {\n",
              "        vertical-align: middle;\n",
              "    }\n",
              "\n",
              "    .dataframe tbody tr th {\n",
              "        vertical-align: top;\n",
              "    }\n",
              "\n",
              "    .dataframe thead th {\n",
              "        text-align: right;\n",
              "    }\n",
              "</style>\n",
              "<table border=\"1\" class=\"dataframe\">\n",
              "  <thead>\n",
              "    <tr style=\"text-align: right;\">\n",
              "      <th></th>\n",
              "      <th>Year</th>\n",
              "      <th>Engine HP new</th>\n",
              "      <th>Engine Cylinders new</th>\n",
              "      <th>Number of Doors new</th>\n",
              "      <th>highway MPG</th>\n",
              "      <th>city mpg</th>\n",
              "      <th>Popularity</th>\n",
              "      <th>MSRP</th>\n",
              "    </tr>\n",
              "  </thead>\n",
              "  <tbody>\n",
              "    <tr>\n",
              "      <th>count</th>\n",
              "      <td>11199.00</td>\n",
              "      <td>11199.00</td>\n",
              "      <td>11199.00</td>\n",
              "      <td>11199.00</td>\n",
              "      <td>11199.00</td>\n",
              "      <td>11199.00</td>\n",
              "      <td>11199.00</td>\n",
              "      <td>11199.00</td>\n",
              "    </tr>\n",
              "    <tr>\n",
              "      <th>mean</th>\n",
              "      <td>2010.71</td>\n",
              "      <td>253.23</td>\n",
              "      <td>5.66</td>\n",
              "      <td>3.45</td>\n",
              "      <td>26.61</td>\n",
              "      <td>19.73</td>\n",
              "      <td>1558.48</td>\n",
              "      <td>41925.93</td>\n",
              "    </tr>\n",
              "    <tr>\n",
              "      <th>std</th>\n",
              "      <td>7.23</td>\n",
              "      <td>109.83</td>\n",
              "      <td>1.80</td>\n",
              "      <td>0.87</td>\n",
              "      <td>8.98</td>\n",
              "      <td>9.18</td>\n",
              "      <td>1445.67</td>\n",
              "      <td>61535.05</td>\n",
              "    </tr>\n",
              "    <tr>\n",
              "      <th>min</th>\n",
              "      <td>1990.00</td>\n",
              "      <td>55.00</td>\n",
              "      <td>0.00</td>\n",
              "      <td>2.00</td>\n",
              "      <td>12.00</td>\n",
              "      <td>7.00</td>\n",
              "      <td>2.00</td>\n",
              "      <td>2000.00</td>\n",
              "    </tr>\n",
              "    <tr>\n",
              "      <th>25%</th>\n",
              "      <td>2007.00</td>\n",
              "      <td>172.00</td>\n",
              "      <td>4.00</td>\n",
              "      <td>2.00</td>\n",
              "      <td>22.00</td>\n",
              "      <td>16.00</td>\n",
              "      <td>549.00</td>\n",
              "      <td>21599.50</td>\n",
              "    </tr>\n",
              "    <tr>\n",
              "      <th>50%</th>\n",
              "      <td>2015.00</td>\n",
              "      <td>236.00</td>\n",
              "      <td>6.00</td>\n",
              "      <td>4.00</td>\n",
              "      <td>25.00</td>\n",
              "      <td>18.00</td>\n",
              "      <td>1385.00</td>\n",
              "      <td>30675.00</td>\n",
              "    </tr>\n",
              "    <tr>\n",
              "      <th>75%</th>\n",
              "      <td>2016.00</td>\n",
              "      <td>303.00</td>\n",
              "      <td>6.00</td>\n",
              "      <td>4.00</td>\n",
              "      <td>30.00</td>\n",
              "      <td>22.00</td>\n",
              "      <td>2009.00</td>\n",
              "      <td>43032.50</td>\n",
              "    </tr>\n",
              "    <tr>\n",
              "      <th>max</th>\n",
              "      <td>2017.00</td>\n",
              "      <td>1001.00</td>\n",
              "      <td>16.00</td>\n",
              "      <td>4.00</td>\n",
              "      <td>354.00</td>\n",
              "      <td>137.00</td>\n",
              "      <td>5657.00</td>\n",
              "      <td>2065902.00</td>\n",
              "    </tr>\n",
              "  </tbody>\n",
              "</table>\n",
              "</div>"
            ],
            "text/plain": [
              "           Year  Engine HP new  Engine Cylinders new  Number of Doors new  \\\n",
              "count  11199.00       11199.00              11199.00             11199.00   \n",
              "mean    2010.71         253.23                  5.66                 3.45   \n",
              "std        7.23         109.83                  1.80                 0.87   \n",
              "min     1990.00          55.00                  0.00                 2.00   \n",
              "25%     2007.00         172.00                  4.00                 2.00   \n",
              "50%     2015.00         236.00                  6.00                 4.00   \n",
              "75%     2016.00         303.00                  6.00                 4.00   \n",
              "max     2017.00        1001.00                 16.00                 4.00   \n",
              "\n",
              "       highway MPG  city mpg  Popularity        MSRP  \n",
              "count     11199.00  11199.00    11199.00    11199.00  \n",
              "mean         26.61     19.73     1558.48    41925.93  \n",
              "std           8.98      9.18     1445.67    61535.05  \n",
              "min          12.00      7.00        2.00     2000.00  \n",
              "25%          22.00     16.00      549.00    21599.50  \n",
              "50%          25.00     18.00     1385.00    30675.00  \n",
              "75%          30.00     22.00     2009.00    43032.50  \n",
              "max         354.00    137.00     5657.00  2065902.00  "
            ]
          },
          "execution_count": 33,
          "metadata": {},
          "output_type": "execute_result"
        }
      ],
      "source": [
        "# Overview of the cleaned data\n",
        "\n",
        "df_car_cleaned.describe().round(2)"
      ]
    },
    {
      "cell_type": "code",
      "execution_count": 34,
      "metadata": {
        "id": "fmhOLMGHm-ZN"
      },
      "outputs": [],
      "source": [
        "# Giving a new name for faster handling\n",
        "\n",
        "car = df_car_cleaned"
      ]
    },
    {
      "cell_type": "markdown",
      "metadata": {},
      "source": [
        "Create a column called \"Total MPG\" that is the average of \"city mpg\" and \"highway MPG\"."
      ]
    },
    {
      "cell_type": "code",
      "execution_count": 35,
      "metadata": {
        "id": "0oLTRKaPn6lD"
      },
      "outputs": [],
      "source": [
        "car[\"Total MPG\"] = (car[\"city mpg\"] + car[\"highway MPG\"])/2"
      ]
    },
    {
      "cell_type": "markdown",
      "metadata": {},
      "source": [
        "Create a column called \"Price per HP\" calculated as:\n",
        "\"MSRP\" / \"Engine HP\"."
      ]
    },
    {
      "cell_type": "code",
      "execution_count": 36,
      "metadata": {
        "id": "Fem3UPkWoraW"
      },
      "outputs": [],
      "source": [
        "car[\"Price per HP\"] = round(car[\"MSRP\"] / car[\"Engine HP new\"], 2)"
      ]
    },
    {
      "cell_type": "code",
      "execution_count": 37,
      "metadata": {
        "colab": {
          "base_uri": "https://localhost:8080/",
          "height": 452
        },
        "id": "vjYgoaLpEQVm",
        "outputId": "44ae3858-c036-40f1-fd30-2f40a9e6d577"
      },
      "outputs": [
        {
          "data": {
            "text/html": [
              "<div>\n",
              "<style scoped>\n",
              "    .dataframe tbody tr th:only-of-type {\n",
              "        vertical-align: middle;\n",
              "    }\n",
              "\n",
              "    .dataframe tbody tr th {\n",
              "        vertical-align: top;\n",
              "    }\n",
              "\n",
              "    .dataframe thead th {\n",
              "        text-align: right;\n",
              "    }\n",
              "</style>\n",
              "<table border=\"1\" class=\"dataframe\">\n",
              "  <thead>\n",
              "    <tr style=\"text-align: right;\">\n",
              "      <th></th>\n",
              "      <th>Make</th>\n",
              "      <th>Model</th>\n",
              "      <th>Year</th>\n",
              "      <th>Engine Fuel Type new</th>\n",
              "      <th>Engine HP new</th>\n",
              "      <th>Engine Cylinders new</th>\n",
              "      <th>Transmission Type</th>\n",
              "      <th>Driven_Wheels</th>\n",
              "      <th>Number of Doors new</th>\n",
              "      <th>Market Category new</th>\n",
              "      <th>Vehicle Size</th>\n",
              "      <th>Vehicle Style</th>\n",
              "      <th>highway MPG</th>\n",
              "      <th>city mpg</th>\n",
              "      <th>Popularity</th>\n",
              "      <th>MSRP</th>\n",
              "      <th>Total MPG</th>\n",
              "      <th>Price per HP</th>\n",
              "    </tr>\n",
              "  </thead>\n",
              "  <tbody>\n",
              "    <tr>\n",
              "      <th>0</th>\n",
              "      <td>BMW</td>\n",
              "      <td>1 Series M</td>\n",
              "      <td>2011</td>\n",
              "      <td>premium unleaded (required)</td>\n",
              "      <td>335.0</td>\n",
              "      <td>6.0</td>\n",
              "      <td>MANUAL</td>\n",
              "      <td>rear wheel drive</td>\n",
              "      <td>2.0</td>\n",
              "      <td>Factory Tuner,Luxury,High-Performance</td>\n",
              "      <td>Compact</td>\n",
              "      <td>Coupe</td>\n",
              "      <td>26</td>\n",
              "      <td>19</td>\n",
              "      <td>3916</td>\n",
              "      <td>46135</td>\n",
              "      <td>22.5</td>\n",
              "      <td>137.72</td>\n",
              "    </tr>\n",
              "    <tr>\n",
              "      <th>1</th>\n",
              "      <td>BMW</td>\n",
              "      <td>1 Series</td>\n",
              "      <td>2011</td>\n",
              "      <td>premium unleaded (required)</td>\n",
              "      <td>300.0</td>\n",
              "      <td>6.0</td>\n",
              "      <td>MANUAL</td>\n",
              "      <td>rear wheel drive</td>\n",
              "      <td>2.0</td>\n",
              "      <td>Luxury,Performance</td>\n",
              "      <td>Compact</td>\n",
              "      <td>Convertible</td>\n",
              "      <td>28</td>\n",
              "      <td>19</td>\n",
              "      <td>3916</td>\n",
              "      <td>40650</td>\n",
              "      <td>23.5</td>\n",
              "      <td>135.50</td>\n",
              "    </tr>\n",
              "    <tr>\n",
              "      <th>2</th>\n",
              "      <td>BMW</td>\n",
              "      <td>1 Series</td>\n",
              "      <td>2011</td>\n",
              "      <td>premium unleaded (required)</td>\n",
              "      <td>300.0</td>\n",
              "      <td>6.0</td>\n",
              "      <td>MANUAL</td>\n",
              "      <td>rear wheel drive</td>\n",
              "      <td>2.0</td>\n",
              "      <td>Luxury,High-Performance</td>\n",
              "      <td>Compact</td>\n",
              "      <td>Coupe</td>\n",
              "      <td>28</td>\n",
              "      <td>20</td>\n",
              "      <td>3916</td>\n",
              "      <td>36350</td>\n",
              "      <td>24.0</td>\n",
              "      <td>121.17</td>\n",
              "    </tr>\n",
              "    <tr>\n",
              "      <th>3</th>\n",
              "      <td>BMW</td>\n",
              "      <td>1 Series</td>\n",
              "      <td>2011</td>\n",
              "      <td>premium unleaded (required)</td>\n",
              "      <td>230.0</td>\n",
              "      <td>6.0</td>\n",
              "      <td>MANUAL</td>\n",
              "      <td>rear wheel drive</td>\n",
              "      <td>2.0</td>\n",
              "      <td>Luxury,Performance</td>\n",
              "      <td>Compact</td>\n",
              "      <td>Coupe</td>\n",
              "      <td>28</td>\n",
              "      <td>18</td>\n",
              "      <td>3916</td>\n",
              "      <td>29450</td>\n",
              "      <td>23.0</td>\n",
              "      <td>128.04</td>\n",
              "    </tr>\n",
              "    <tr>\n",
              "      <th>4</th>\n",
              "      <td>BMW</td>\n",
              "      <td>1 Series</td>\n",
              "      <td>2011</td>\n",
              "      <td>premium unleaded (required)</td>\n",
              "      <td>230.0</td>\n",
              "      <td>6.0</td>\n",
              "      <td>MANUAL</td>\n",
              "      <td>rear wheel drive</td>\n",
              "      <td>2.0</td>\n",
              "      <td>Luxury</td>\n",
              "      <td>Compact</td>\n",
              "      <td>Convertible</td>\n",
              "      <td>28</td>\n",
              "      <td>18</td>\n",
              "      <td>3916</td>\n",
              "      <td>34500</td>\n",
              "      <td>23.0</td>\n",
              "      <td>150.00</td>\n",
              "    </tr>\n",
              "  </tbody>\n",
              "</table>\n",
              "</div>"
            ],
            "text/plain": [
              "  Make       Model  Year         Engine Fuel Type new  Engine HP new  \\\n",
              "0  BMW  1 Series M  2011  premium unleaded (required)          335.0   \n",
              "1  BMW    1 Series  2011  premium unleaded (required)          300.0   \n",
              "2  BMW    1 Series  2011  premium unleaded (required)          300.0   \n",
              "3  BMW    1 Series  2011  premium unleaded (required)          230.0   \n",
              "4  BMW    1 Series  2011  premium unleaded (required)          230.0   \n",
              "\n",
              "   Engine Cylinders new Transmission Type     Driven_Wheels  \\\n",
              "0                   6.0            MANUAL  rear wheel drive   \n",
              "1                   6.0            MANUAL  rear wheel drive   \n",
              "2                   6.0            MANUAL  rear wheel drive   \n",
              "3                   6.0            MANUAL  rear wheel drive   \n",
              "4                   6.0            MANUAL  rear wheel drive   \n",
              "\n",
              "   Number of Doors new                    Market Category new Vehicle Size  \\\n",
              "0                  2.0  Factory Tuner,Luxury,High-Performance      Compact   \n",
              "1                  2.0                     Luxury,Performance      Compact   \n",
              "2                  2.0                Luxury,High-Performance      Compact   \n",
              "3                  2.0                     Luxury,Performance      Compact   \n",
              "4                  2.0                                 Luxury      Compact   \n",
              "\n",
              "  Vehicle Style  highway MPG  city mpg  Popularity   MSRP  Total MPG  \\\n",
              "0         Coupe           26        19        3916  46135       22.5   \n",
              "1   Convertible           28        19        3916  40650       23.5   \n",
              "2         Coupe           28        20        3916  36350       24.0   \n",
              "3         Coupe           28        18        3916  29450       23.0   \n",
              "4   Convertible           28        18        3916  34500       23.0   \n",
              "\n",
              "   Price per HP  \n",
              "0        137.72  \n",
              "1        135.50  \n",
              "2        121.17  \n",
              "3        128.04  \n",
              "4        150.00  "
            ]
          },
          "execution_count": 37,
          "metadata": {},
          "output_type": "execute_result"
        }
      ],
      "source": [
        "car.head()"
      ]
    },
    {
      "cell_type": "markdown",
      "metadata": {},
      "source": [
        "## 4. Analyze\n",
        "\n",
        "Here we explore:\n",
        "- Distribution of MSRP\n",
        "- Correlation between Engine HP / Cylinders and MSRP\n",
        "- Differences in MSRP by Driven Wheels, Fuel Type, etc."
      ]
    },
    {
      "cell_type": "markdown",
      "metadata": {},
      "source": [
        "### 1. Descriptive Statistics"
      ]
    },
    {
      "cell_type": "markdown",
      "metadata": {
        "id": "T1aAFf6DqLZG"
      },
      "source": [
        "Calculate summary statistics (mean, median, standard deviation) for the following columns:\n",
        "\n",
        "\"Engine HP\", \"MSRP\", \"Popularity\", \"highway MPG\" and \"city mpg\""
      ]
    },
    {
      "cell_type": "code",
      "execution_count": 38,
      "metadata": {
        "colab": {
          "base_uri": "https://localhost:8080/",
          "height": 206
        },
        "id": "mesvWx2fqVAf",
        "outputId": "fabf58eb-4201-4cb7-f6dd-17791714ca88"
      },
      "outputs": [
        {
          "data": {
            "text/html": [
              "<div>\n",
              "<style scoped>\n",
              "    .dataframe tbody tr th:only-of-type {\n",
              "        vertical-align: middle;\n",
              "    }\n",
              "\n",
              "    .dataframe tbody tr th {\n",
              "        vertical-align: top;\n",
              "    }\n",
              "\n",
              "    .dataframe thead th {\n",
              "        text-align: right;\n",
              "    }\n",
              "</style>\n",
              "<table border=\"1\" class=\"dataframe\">\n",
              "  <thead>\n",
              "    <tr style=\"text-align: right;\">\n",
              "      <th></th>\n",
              "      <th>Mean</th>\n",
              "      <th>Median</th>\n",
              "      <th>Standard Deviation</th>\n",
              "    </tr>\n",
              "  </thead>\n",
              "  <tbody>\n",
              "    <tr>\n",
              "      <th>Engine HP new</th>\n",
              "      <td>253.23</td>\n",
              "      <td>236.0</td>\n",
              "      <td>109.83</td>\n",
              "    </tr>\n",
              "    <tr>\n",
              "      <th>MSRP</th>\n",
              "      <td>41925.93</td>\n",
              "      <td>30675.0</td>\n",
              "      <td>61535.05</td>\n",
              "    </tr>\n",
              "    <tr>\n",
              "      <th>Popularity</th>\n",
              "      <td>1558.48</td>\n",
              "      <td>1385.0</td>\n",
              "      <td>1445.67</td>\n",
              "    </tr>\n",
              "    <tr>\n",
              "      <th>highway MPG</th>\n",
              "      <td>26.61</td>\n",
              "      <td>25.0</td>\n",
              "      <td>8.98</td>\n",
              "    </tr>\n",
              "    <tr>\n",
              "      <th>city mpg</th>\n",
              "      <td>19.73</td>\n",
              "      <td>18.0</td>\n",
              "      <td>9.18</td>\n",
              "    </tr>\n",
              "  </tbody>\n",
              "</table>\n",
              "</div>"
            ],
            "text/plain": [
              "                   Mean   Median  Standard Deviation\n",
              "Engine HP new    253.23    236.0              109.83\n",
              "MSRP           41925.93  30675.0            61535.05\n",
              "Popularity      1558.48   1385.0             1445.67\n",
              "highway MPG       26.61     25.0                8.98\n",
              "city mpg          19.73     18.0                9.18"
            ]
          },
          "execution_count": 38,
          "metadata": {},
          "output_type": "execute_result"
        }
      ],
      "source": [
        "# Summary statistics as new dataframe\n",
        "\n",
        "summary_stats = pd.DataFrame({\n",
        "    \"Mean\": car[[\"Engine HP new\", \"MSRP\", \"Popularity\", \"highway MPG\", \"city mpg\"]].mean().round(2),\n",
        "    \"Median\":car[[\"Engine HP new\", \"MSRP\", \"Popularity\", \"highway MPG\", \"city mpg\"]].median().round(2),\n",
        "    \"Standard Deviation\": car[[\"Engine HP new\", \"MSRP\", \"Popularity\", \"highway MPG\", \"city mpg\"]].std().round(2)\n",
        "    })\n",
        "\n",
        "summary_stats"
      ]
    },
    {
      "cell_type": "markdown",
      "metadata": {},
      "source": [
        "### 2. Group Analysis"
      ]
    },
    {
      "cell_type": "markdown",
      "metadata": {},
      "source": [
        "Group the data by the following columns and calculate the average MSRP and Popularity for each group:\n",
        "\n",
        "*   Driven_Wheels\n",
        "*   Vehicle Size\n",
        "*   Engine Cylinders"
      ]
    },
    {
      "cell_type": "code",
      "execution_count": 39,
      "metadata": {
        "colab": {
          "base_uri": "https://localhost:8080/",
          "height": 705
        },
        "id": "cJLb4gbHzyS1",
        "outputId": "4259ff5d-e98e-4ae8-d4be-148d67215cd3"
      },
      "outputs": [
        {
          "name": "stderr",
          "output_type": "stream",
          "text": [
            "/var/folders/sj/yq8_zfcj0vg1v9dyw7qpp8rm0000gn/T/ipykernel_17051/128340193.py:1: FutureWarning: The default of observed=False is deprecated and will be changed to True in a future version of pandas. Pass observed=False to retain current behavior or observed=True to adopt the future default and silence this warning.\n",
            "  driven_wheels = car.groupby(\"Driven_Wheels\")[[\"MSRP\", \"Popularity\"]].mean().round(2)\n",
            "/var/folders/sj/yq8_zfcj0vg1v9dyw7qpp8rm0000gn/T/ipykernel_17051/128340193.py:4: FutureWarning: The default of observed=False is deprecated and will be changed to True in a future version of pandas. Pass observed=False to retain current behavior or observed=True to adopt the future default and silence this warning.\n",
            "  vehicle_size = car.groupby(\"Vehicle Size\")[[\"MSRP\", \"Popularity\"]].mean().round(2)\n"
          ]
        },
        {
          "data": {
            "text/html": [
              "<div>\n",
              "<style scoped>\n",
              "    .dataframe tbody tr th:only-of-type {\n",
              "        vertical-align: middle;\n",
              "    }\n",
              "\n",
              "    .dataframe tbody tr th {\n",
              "        vertical-align: top;\n",
              "    }\n",
              "\n",
              "    .dataframe thead th {\n",
              "        text-align: right;\n",
              "    }\n",
              "</style>\n",
              "<table border=\"1\" class=\"dataframe\">\n",
              "  <thead>\n",
              "    <tr style=\"text-align: right;\">\n",
              "      <th></th>\n",
              "      <th></th>\n",
              "      <th>MSRP</th>\n",
              "      <th>Popularity</th>\n",
              "    </tr>\n",
              "  </thead>\n",
              "  <tbody>\n",
              "    <tr>\n",
              "      <th rowspan=\"4\" valign=\"top\">Driven Wheels</th>\n",
              "      <th>all wheel drive</th>\n",
              "      <td>50856.45</td>\n",
              "      <td>1609.34</td>\n",
              "    </tr>\n",
              "    <tr>\n",
              "      <th>front wheel drive</th>\n",
              "      <td>23334.25</td>\n",
              "      <td>1395.66</td>\n",
              "    </tr>\n",
              "    <tr>\n",
              "      <th>rear wheel drive</th>\n",
              "      <td>57026.67</td>\n",
              "      <td>1721.67</td>\n",
              "    </tr>\n",
              "    <tr>\n",
              "      <th>Overall Average</th>\n",
              "      <td>43739.12</td>\n",
              "      <td>1575.56</td>\n",
              "    </tr>\n",
              "    <tr>\n",
              "      <th rowspan=\"4\" valign=\"top\">Vehicle Size</th>\n",
              "      <th>Compact</th>\n",
              "      <td>35506.20</td>\n",
              "      <td>1460.92</td>\n",
              "    </tr>\n",
              "    <tr>\n",
              "      <th>Large</th>\n",
              "      <td>55352.12</td>\n",
              "      <td>1879.02</td>\n",
              "    </tr>\n",
              "    <tr>\n",
              "      <th>Midsize</th>\n",
              "      <td>40031.29</td>\n",
              "      <td>1453.84</td>\n",
              "    </tr>\n",
              "    <tr>\n",
              "      <th>Overall Average</th>\n",
              "      <td>43629.87</td>\n",
              "      <td>1597.93</td>\n",
              "    </tr>\n",
              "    <tr>\n",
              "      <th rowspan=\"10\" valign=\"top\">Engine Cylinders</th>\n",
              "      <th>0.0</th>\n",
              "      <td>50615.09</td>\n",
              "      <td>1918.70</td>\n",
              "    </tr>\n",
              "    <tr>\n",
              "      <th>3.0</th>\n",
              "      <td>9698.00</td>\n",
              "      <td>741.30</td>\n",
              "    </tr>\n",
              "    <tr>\n",
              "      <th>4.0</th>\n",
              "      <td>24037.07</td>\n",
              "      <td>1412.09</td>\n",
              "    </tr>\n",
              "    <tr>\n",
              "      <th>5.0</th>\n",
              "      <td>21765.60</td>\n",
              "      <td>1008.48</td>\n",
              "    </tr>\n",
              "    <tr>\n",
              "      <th>6.0</th>\n",
              "      <td>35104.42</td>\n",
              "      <td>1676.16</td>\n",
              "    </tr>\n",
              "    <tr>\n",
              "      <th>8.0</th>\n",
              "      <td>63003.06</td>\n",
              "      <td>1753.77</td>\n",
              "    </tr>\n",
              "    <tr>\n",
              "      <th>10.0</th>\n",
              "      <td>188209.77</td>\n",
              "      <td>1829.06</td>\n",
              "    </tr>\n",
              "    <tr>\n",
              "      <th>12.0</th>\n",
              "      <td>286028.36</td>\n",
              "      <td>840.13</td>\n",
              "    </tr>\n",
              "    <tr>\n",
              "      <th>16.0</th>\n",
              "      <td>1757223.67</td>\n",
              "      <td>820.00</td>\n",
              "    </tr>\n",
              "    <tr>\n",
              "      <th>Overall Average</th>\n",
              "      <td>270631.67</td>\n",
              "      <td>1333.30</td>\n",
              "    </tr>\n",
              "  </tbody>\n",
              "</table>\n",
              "</div>"
            ],
            "text/plain": [
              "                                          MSRP  Popularity\n",
              "Driven Wheels    all wheel drive      50856.45     1609.34\n",
              "                 front wheel drive    23334.25     1395.66\n",
              "                 rear wheel drive     57026.67     1721.67\n",
              "                 Overall Average      43739.12     1575.56\n",
              "Vehicle Size     Compact              35506.20     1460.92\n",
              "                 Large                55352.12     1879.02\n",
              "                 Midsize              40031.29     1453.84\n",
              "                 Overall Average      43629.87     1597.93\n",
              "Engine Cylinders 0.0                  50615.09     1918.70\n",
              "                 3.0                   9698.00      741.30\n",
              "                 4.0                  24037.07     1412.09\n",
              "                 5.0                  21765.60     1008.48\n",
              "                 6.0                  35104.42     1676.16\n",
              "                 8.0                  63003.06     1753.77\n",
              "                 10.0                188209.77     1829.06\n",
              "                 12.0                286028.36      840.13\n",
              "                 16.0               1757223.67      820.00\n",
              "                 Overall Average     270631.67     1333.30"
            ]
          },
          "metadata": {},
          "output_type": "display_data"
        }
      ],
      "source": [
        "driven_wheels = car.groupby(\"Driven_Wheels\")[[\"MSRP\", \"Popularity\"]].mean().round(2)\n",
        "driven_wheels.loc[\"Overall Average\"] = driven_wheels[[\"MSRP\", \"Popularity\"]].mean().round(2)\n",
        "\n",
        "vehicle_size = car.groupby(\"Vehicle Size\")[[\"MSRP\", \"Popularity\"]].mean().round(2)\n",
        "vehicle_size.loc[\"Overall Average\"] = vehicle_size[[\"MSRP\", \"Popularity\"]].mean().round(2)\n",
        "\n",
        "engine_cylinders = car.groupby(\"Engine Cylinders new\")[[\"MSRP\", \"Popularity\"]].mean().round(2)\n",
        "engine_cylinders.loc[\"Overall Average\"] = engine_cylinders[[\"MSRP\", \"Popularity\"]].mean().round(2)\n",
        "\n",
        "combined_car = pd.concat(\n",
        "    [driven_wheels, vehicle_size, engine_cylinders,],\n",
        "    keys=[\"Driven Wheels\", \"Vehicle Size\", \"Engine Cylinders\"]\n",
        ")\n",
        "\n",
        "display(combined_car)\n",
        "\n",
        "pd.set_option(\"display.max_rows\", None)\n",
        "pd.set_option(\"display.max_columns\", None)\n",
        "pd.set_option(\"display.expand_frame_repr\", False)\n",
        "\n"
      ]
    },
    {
      "cell_type": "markdown",
      "metadata": {
        "id": "RS8rNt41_nw8"
      },
      "source": [
        "Now we have an overview for each group and its specific values. Another option would be to group by driven wheels, then by car size and last by cylinders.\n",
        "Lets do this with the following code:"
      ]
    },
    {
      "cell_type": "code",
      "execution_count": 40,
      "metadata": {
        "colab": {
          "base_uri": "https://localhost:8080/",
          "height": 1000
        },
        "id": "PoRw06l3ABEq",
        "outputId": "99857470-54cf-4c2c-c434-f82b074af883"
      },
      "outputs": [
        {
          "name": "stderr",
          "output_type": "stream",
          "text": [
            "/var/folders/sj/yq8_zfcj0vg1v9dyw7qpp8rm0000gn/T/ipykernel_17051/635598767.py:1: FutureWarning: The default of observed=False is deprecated and will be changed to True in a future version of pandas. Pass observed=False to retain current behavior or observed=True to adopt the future default and silence this warning.\n",
            "  car_grouped = car.groupby([\"Driven_Wheels\", \"Vehicle Size\", \"Engine Cylinders new\"]).agg({\n"
          ]
        },
        {
          "data": {
            "text/html": [
              "<div>\n",
              "<style scoped>\n",
              "    .dataframe tbody tr th:only-of-type {\n",
              "        vertical-align: middle;\n",
              "    }\n",
              "\n",
              "    .dataframe tbody tr th {\n",
              "        vertical-align: top;\n",
              "    }\n",
              "\n",
              "    .dataframe thead th {\n",
              "        text-align: right;\n",
              "    }\n",
              "</style>\n",
              "<table border=\"1\" class=\"dataframe\">\n",
              "  <thead>\n",
              "    <tr style=\"text-align: right;\">\n",
              "      <th></th>\n",
              "      <th></th>\n",
              "      <th></th>\n",
              "      <th>MSRP</th>\n",
              "      <th>Popularity</th>\n",
              "    </tr>\n",
              "    <tr>\n",
              "      <th>Driven_Wheels</th>\n",
              "      <th>Vehicle Size</th>\n",
              "      <th>Engine Cylinders new</th>\n",
              "      <th></th>\n",
              "      <th></th>\n",
              "    </tr>\n",
              "  </thead>\n",
              "  <tbody>\n",
              "    <tr>\n",
              "      <th rowspan=\"19\" valign=\"top\">all wheel drive</th>\n",
              "      <th rowspan=\"8\" valign=\"top\">Compact</th>\n",
              "      <th>3.0</th>\n",
              "      <td>2000.00</td>\n",
              "      <td>640.00</td>\n",
              "    </tr>\n",
              "    <tr>\n",
              "      <th>4.0</th>\n",
              "      <td>27401.87</td>\n",
              "      <td>1219.49</td>\n",
              "    </tr>\n",
              "    <tr>\n",
              "      <th>5.0</th>\n",
              "      <td>27021.30</td>\n",
              "      <td>1418.91</td>\n",
              "    </tr>\n",
              "    <tr>\n",
              "      <th>6.0</th>\n",
              "      <td>36948.36</td>\n",
              "      <td>1659.83</td>\n",
              "    </tr>\n",
              "    <tr>\n",
              "      <th>8.0</th>\n",
              "      <td>63781.96</td>\n",
              "      <td>2696.71</td>\n",
              "    </tr>\n",
              "    <tr>\n",
              "      <th>10.0</th>\n",
              "      <td>205888.92</td>\n",
              "      <td>2052.57</td>\n",
              "    </tr>\n",
              "    <tr>\n",
              "      <th>12.0</th>\n",
              "      <td>469718.18</td>\n",
              "      <td>1158.00</td>\n",
              "    </tr>\n",
              "    <tr>\n",
              "      <th>16.0</th>\n",
              "      <td>1757223.67</td>\n",
              "      <td>820.00</td>\n",
              "    </tr>\n",
              "    <tr>\n",
              "      <th rowspan=\"5\" valign=\"top\">Large</th>\n",
              "      <th>0.0</th>\n",
              "      <td>90636.36</td>\n",
              "      <td>1391.00</td>\n",
              "    </tr>\n",
              "    <tr>\n",
              "      <th>4.0</th>\n",
              "      <td>50218.87</td>\n",
              "      <td>1229.32</td>\n",
              "    </tr>\n",
              "    <tr>\n",
              "      <th>6.0</th>\n",
              "      <td>43718.61</td>\n",
              "      <td>2245.57</td>\n",
              "    </tr>\n",
              "    <tr>\n",
              "      <th>8.0</th>\n",
              "      <td>56714.90</td>\n",
              "      <td>1855.00</td>\n",
              "    </tr>\n",
              "    <tr>\n",
              "      <th>12.0</th>\n",
              "      <td>179273.68</td>\n",
              "      <td>1123.42</td>\n",
              "    </tr>\n",
              "    <tr>\n",
              "      <th rowspan=\"6\" valign=\"top\">Midsize</th>\n",
              "      <th>4.0</th>\n",
              "      <td>35721.72</td>\n",
              "      <td>1666.31</td>\n",
              "    </tr>\n",
              "    <tr>\n",
              "      <th>5.0</th>\n",
              "      <td>34427.10</td>\n",
              "      <td>961.71</td>\n",
              "    </tr>\n",
              "    <tr>\n",
              "      <th>6.0</th>\n",
              "      <td>41971.67</td>\n",
              "      <td>1368.27</td>\n",
              "    </tr>\n",
              "    <tr>\n",
              "      <th>8.0</th>\n",
              "      <td>76014.87</td>\n",
              "      <td>1491.40</td>\n",
              "    </tr>\n",
              "    <tr>\n",
              "      <th>10.0</th>\n",
              "      <td>68340.00</td>\n",
              "      <td>873.00</td>\n",
              "    </tr>\n",
              "    <tr>\n",
              "      <th>12.0</th>\n",
              "      <td>315113.89</td>\n",
              "      <td>735.36</td>\n",
              "    </tr>\n",
              "    <tr>\n",
              "      <th rowspan=\"14\" valign=\"top\">front wheel drive</th>\n",
              "      <th rowspan=\"6\" valign=\"top\">Compact</th>\n",
              "      <th>0.0</th>\n",
              "      <td>32170.16</td>\n",
              "      <td>1958.84</td>\n",
              "    </tr>\n",
              "    <tr>\n",
              "      <th>3.0</th>\n",
              "      <td>10882.31</td>\n",
              "      <td>756.88</td>\n",
              "    </tr>\n",
              "    <tr>\n",
              "      <th>4.0</th>\n",
              "      <td>19174.50</td>\n",
              "      <td>1441.60</td>\n",
              "    </tr>\n",
              "    <tr>\n",
              "      <th>5.0</th>\n",
              "      <td>23551.51</td>\n",
              "      <td>942.95</td>\n",
              "    </tr>\n",
              "    <tr>\n",
              "      <th>6.0</th>\n",
              "      <td>13930.33</td>\n",
              "      <td>1273.21</td>\n",
              "    </tr>\n",
              "    <tr>\n",
              "      <th>8.0</th>\n",
              "      <td>2197.33</td>\n",
              "      <td>1624.00</td>\n",
              "    </tr>\n",
              "    <tr>\n",
              "      <th rowspan=\"3\" valign=\"top\">Large</th>\n",
              "      <th>4.0</th>\n",
              "      <td>38246.96</td>\n",
              "      <td>865.96</td>\n",
              "    </tr>\n",
              "    <tr>\n",
              "      <th>6.0</th>\n",
              "      <td>28746.60</td>\n",
              "      <td>1646.01</td>\n",
              "    </tr>\n",
              "    <tr>\n",
              "      <th>8.0</th>\n",
              "      <td>43181.12</td>\n",
              "      <td>1207.18</td>\n",
              "    </tr>\n",
              "    <tr>\n",
              "      <th rowspan=\"5\" valign=\"top\">Midsize</th>\n",
              "      <th>0.0</th>\n",
              "      <td>49800.00</td>\n",
              "      <td>2031.00</td>\n",
              "    </tr>\n",
              "    <tr>\n",
              "      <th>4.0</th>\n",
              "      <td>26452.55</td>\n",
              "      <td>1378.96</td>\n",
              "    </tr>\n",
              "    <tr>\n",
              "      <th>5.0</th>\n",
              "      <td>2097.81</td>\n",
              "      <td>938.67</td>\n",
              "    </tr>\n",
              "    <tr>\n",
              "      <th>6.0</th>\n",
              "      <td>28876.60</td>\n",
              "      <td>1311.88</td>\n",
              "    </tr>\n",
              "    <tr>\n",
              "      <th>8.0</th>\n",
              "      <td>27553.75</td>\n",
              "      <td>797.50</td>\n",
              "    </tr>\n",
              "    <tr>\n",
              "      <th rowspan=\"17\" valign=\"top\">rear wheel drive</th>\n",
              "      <th rowspan=\"7\" valign=\"top\">Compact</th>\n",
              "      <th>0.0</th>\n",
              "      <td>42700.00</td>\n",
              "      <td>3916.00</td>\n",
              "    </tr>\n",
              "    <tr>\n",
              "      <th>4.0</th>\n",
              "      <td>22214.83</td>\n",
              "      <td>1283.73</td>\n",
              "    </tr>\n",
              "    <tr>\n",
              "      <th>5.0</th>\n",
              "      <td>26706.67</td>\n",
              "      <td>1106.33</td>\n",
              "    </tr>\n",
              "    <tr>\n",
              "      <th>6.0</th>\n",
              "      <td>35349.20</td>\n",
              "      <td>1836.84</td>\n",
              "    </tr>\n",
              "    <tr>\n",
              "      <th>8.0</th>\n",
              "      <td>114824.02</td>\n",
              "      <td>1488.68</td>\n",
              "    </tr>\n",
              "    <tr>\n",
              "      <th>10.0</th>\n",
              "      <td>168422.41</td>\n",
              "      <td>1558.19</td>\n",
              "    </tr>\n",
              "    <tr>\n",
              "      <th>12.0</th>\n",
              "      <td>219843.64</td>\n",
              "      <td>1486.42</td>\n",
              "    </tr>\n",
              "    <tr>\n",
              "      <th rowspan=\"5\" valign=\"top\">Large</th>\n",
              "      <th>0.0</th>\n",
              "      <td>76800.00</td>\n",
              "      <td>1391.00</td>\n",
              "    </tr>\n",
              "    <tr>\n",
              "      <th>4.0</th>\n",
              "      <td>38685.61</td>\n",
              "      <td>1734.65</td>\n",
              "    </tr>\n",
              "    <tr>\n",
              "      <th>6.0</th>\n",
              "      <td>35408.60</td>\n",
              "      <td>2498.51</td>\n",
              "    </tr>\n",
              "    <tr>\n",
              "      <th>8.0</th>\n",
              "      <td>53438.21</td>\n",
              "      <td>1679.56</td>\n",
              "    </tr>\n",
              "    <tr>\n",
              "      <th>12.0</th>\n",
              "      <td>327240.75</td>\n",
              "      <td>390.17</td>\n",
              "    </tr>\n",
              "    <tr>\n",
              "      <th rowspan=\"5\" valign=\"top\">Midsize</th>\n",
              "      <th>4.0</th>\n",
              "      <td>27332.44</td>\n",
              "      <td>1836.45</td>\n",
              "    </tr>\n",
              "    <tr>\n",
              "      <th>5.0</th>\n",
              "      <td>2000.00</td>\n",
              "      <td>617.00</td>\n",
              "    </tr>\n",
              "    <tr>\n",
              "      <th>6.0</th>\n",
              "      <td>32751.01</td>\n",
              "      <td>1548.38</td>\n",
              "    </tr>\n",
              "    <tr>\n",
              "      <th>8.0</th>\n",
              "      <td>47149.16</td>\n",
              "      <td>2216.13</td>\n",
              "    </tr>\n",
              "    <tr>\n",
              "      <th>12.0</th>\n",
              "      <td>248680.73</td>\n",
              "      <td>968.14</td>\n",
              "    </tr>\n",
              "  </tbody>\n",
              "</table>\n",
              "</div>"
            ],
            "text/plain": [
              "                                                           MSRP  Popularity\n",
              "Driven_Wheels     Vehicle Size Engine Cylinders new                        \n",
              "all wheel drive   Compact      3.0                      2000.00      640.00\n",
              "                               4.0                     27401.87     1219.49\n",
              "                               5.0                     27021.30     1418.91\n",
              "                               6.0                     36948.36     1659.83\n",
              "                               8.0                     63781.96     2696.71\n",
              "                               10.0                   205888.92     2052.57\n",
              "                               12.0                   469718.18     1158.00\n",
              "                               16.0                  1757223.67      820.00\n",
              "                  Large        0.0                     90636.36     1391.00\n",
              "                               4.0                     50218.87     1229.32\n",
              "                               6.0                     43718.61     2245.57\n",
              "                               8.0                     56714.90     1855.00\n",
              "                               12.0                   179273.68     1123.42\n",
              "                  Midsize      4.0                     35721.72     1666.31\n",
              "                               5.0                     34427.10      961.71\n",
              "                               6.0                     41971.67     1368.27\n",
              "                               8.0                     76014.87     1491.40\n",
              "                               10.0                    68340.00      873.00\n",
              "                               12.0                   315113.89      735.36\n",
              "front wheel drive Compact      0.0                     32170.16     1958.84\n",
              "                               3.0                     10882.31      756.88\n",
              "                               4.0                     19174.50     1441.60\n",
              "                               5.0                     23551.51      942.95\n",
              "                               6.0                     13930.33     1273.21\n",
              "                               8.0                      2197.33     1624.00\n",
              "                  Large        4.0                     38246.96      865.96\n",
              "                               6.0                     28746.60     1646.01\n",
              "                               8.0                     43181.12     1207.18\n",
              "                  Midsize      0.0                     49800.00     2031.00\n",
              "                               4.0                     26452.55     1378.96\n",
              "                               5.0                      2097.81      938.67\n",
              "                               6.0                     28876.60     1311.88\n",
              "                               8.0                     27553.75      797.50\n",
              "rear wheel drive  Compact      0.0                     42700.00     3916.00\n",
              "                               4.0                     22214.83     1283.73\n",
              "                               5.0                     26706.67     1106.33\n",
              "                               6.0                     35349.20     1836.84\n",
              "                               8.0                    114824.02     1488.68\n",
              "                               10.0                   168422.41     1558.19\n",
              "                               12.0                   219843.64     1486.42\n",
              "                  Large        0.0                     76800.00     1391.00\n",
              "                               4.0                     38685.61     1734.65\n",
              "                               6.0                     35408.60     2498.51\n",
              "                               8.0                     53438.21     1679.56\n",
              "                               12.0                   327240.75      390.17\n",
              "                  Midsize      4.0                     27332.44     1836.45\n",
              "                               5.0                      2000.00      617.00\n",
              "                               6.0                     32751.01     1548.38\n",
              "                               8.0                     47149.16     2216.13\n",
              "                               12.0                   248680.73      968.14"
            ]
          },
          "execution_count": 40,
          "metadata": {},
          "output_type": "execute_result"
        }
      ],
      "source": [
        "car_grouped = car.groupby([\"Driven_Wheels\", \"Vehicle Size\", \"Engine Cylinders new\"]).agg({\n",
        "    \"MSRP\": \"mean\",\n",
        "    \"Popularity\": \"mean\"\n",
        "}).round(2).dropna(\n",
        "\n",
        ")\n",
        "\n",
        "car_grouped"
      ]
    },
    {
      "cell_type": "markdown",
      "metadata": {},
      "source": [
        "### 3. Correlation Analysis"
      ]
    },
    {
      "cell_type": "markdown",
      "metadata": {},
      "source": [
        "Investigate the correlation between the following variables:\n",
        "\n",
        "* Engine HP\n",
        "* MSRP\n",
        "* Popularity\n",
        "* city mpg\n",
        "* highway MPG"
      ]
    },
    {
      "cell_type": "code",
      "execution_count": 41,
      "metadata": {
        "colab": {
          "base_uri": "https://localhost:8080/",
          "height": 206
        },
        "id": "gONcspeowZ3W",
        "outputId": "16441114-e1c0-4108-b389-fa60022614cf"
      },
      "outputs": [
        {
          "data": {
            "text/html": [
              "<div>\n",
              "<style scoped>\n",
              "    .dataframe tbody tr th:only-of-type {\n",
              "        vertical-align: middle;\n",
              "    }\n",
              "\n",
              "    .dataframe tbody tr th {\n",
              "        vertical-align: top;\n",
              "    }\n",
              "\n",
              "    .dataframe thead th {\n",
              "        text-align: right;\n",
              "    }\n",
              "</style>\n",
              "<table border=\"1\" class=\"dataframe\">\n",
              "  <thead>\n",
              "    <tr style=\"text-align: right;\">\n",
              "      <th></th>\n",
              "      <th>Engine HP new</th>\n",
              "      <th>MSRP</th>\n",
              "      <th>Popularity</th>\n",
              "      <th>city mpg</th>\n",
              "      <th>highway MPG</th>\n",
              "    </tr>\n",
              "  </thead>\n",
              "  <tbody>\n",
              "    <tr>\n",
              "      <th>Engine HP new</th>\n",
              "      <td>1.0000</td>\n",
              "      <td>0.6585</td>\n",
              "      <td>0.0417</td>\n",
              "      <td>-0.3592</td>\n",
              "      <td>-0.3663</td>\n",
              "    </tr>\n",
              "    <tr>\n",
              "      <th>MSRP</th>\n",
              "      <td>0.6585</td>\n",
              "      <td>1.0000</td>\n",
              "      <td>-0.0484</td>\n",
              "      <td>-0.1623</td>\n",
              "      <td>-0.1666</td>\n",
              "    </tr>\n",
              "    <tr>\n",
              "      <th>Popularity</th>\n",
              "      <td>0.0417</td>\n",
              "      <td>-0.0484</td>\n",
              "      <td>1.0000</td>\n",
              "      <td>-0.0005</td>\n",
              "      <td>-0.0172</td>\n",
              "    </tr>\n",
              "    <tr>\n",
              "      <th>city mpg</th>\n",
              "      <td>-0.3592</td>\n",
              "      <td>-0.1623</td>\n",
              "      <td>-0.0005</td>\n",
              "      <td>1.0000</td>\n",
              "      <td>0.8863</td>\n",
              "    </tr>\n",
              "    <tr>\n",
              "      <th>highway MPG</th>\n",
              "      <td>-0.3663</td>\n",
              "      <td>-0.1666</td>\n",
              "      <td>-0.0172</td>\n",
              "      <td>0.8863</td>\n",
              "      <td>1.0000</td>\n",
              "    </tr>\n",
              "  </tbody>\n",
              "</table>\n",
              "</div>"
            ],
            "text/plain": [
              "               Engine HP new    MSRP  Popularity  city mpg  highway MPG\n",
              "Engine HP new         1.0000  0.6585      0.0417   -0.3592      -0.3663\n",
              "MSRP                  0.6585  1.0000     -0.0484   -0.1623      -0.1666\n",
              "Popularity            0.0417 -0.0484      1.0000   -0.0005      -0.0172\n",
              "city mpg             -0.3592 -0.1623     -0.0005    1.0000       0.8863\n",
              "highway MPG          -0.3663 -0.1666     -0.0172    0.8863       1.0000"
            ]
          },
          "execution_count": 41,
          "metadata": {},
          "output_type": "execute_result"
        }
      ],
      "source": [
        "# Setting up the correlation matrix\n",
        "\n",
        "correlation_matrix = car[[\"Engine HP new\", \"MSRP\", \"Popularity\", \"city mpg\", \"highway MPG\"]].corr().round(4)\n",
        "correlation_matrix"
      ]
    },
    {
      "cell_type": "code",
      "execution_count": 42,
      "metadata": {
        "colab": {
          "base_uri": "https://localhost:8080/",
          "height": 468
        },
        "id": "kVa5dyICw7v0",
        "outputId": "ba2d2000-c884-472e-9274-bcf3cfbb2740"
      },
      "outputs": [
        {
          "data": {
            "image/png": "[encoded data removed]",
            "text/plain": [
              "<Figure size 800x500 with 2 Axes>"
            ]
          },
          "metadata": {},
          "output_type": "display_data"
        }
      ],
      "source": [
        "# Creating a heatmap\n",
        "\n",
        "plt.figure(figsize=(8, 5))\n",
        "sns.heatmap(correlation_matrix, annot=True, cmap=\"coolwarm\", fmt=\".3f\", vmin=-1, vmax=1)\n",
        "plt.title(\"Correlation Matrix\")\n",
        "plt.xticks(rotation=0, fontsize=10)\n",
        "plt.yticks(rotation=0, fontsize=10)\n",
        "plt.show()"
      ]
    },
    {
      "cell_type": "markdown",
      "metadata": {},
      "source": [
        "## 5. Share\n",
        "\n",
        "Final plots and visualizations are created in R (see `r_visuals/` folder).\n",
        "\n",
        "Visual insights include:\n",
        "- Distribution of MSRP\n",
        "- Correlation Heatmap"
      ]
    },
    {
      "cell_type": "markdown",
      "metadata": {},
      "source": [
        "## Distribution of City MPG\n",
        "\n",
        "![City MPG Histogram](../r_visuals/plots/city_mpg_histogram.png)\n",
        "\n",
        "---\n",
        "\n",
        "## Average MSRP by Vehicle Size\n",
        "\n",
        "![MSRP by Vehicle Size](../r_visuals/plots/msrp_by_vehicle_size.png)\n",
        "\n",
        "---\n",
        "\n",
        "## Engine HP vs MSRP (log)\n",
        "\n",
        "![HP vs MSRP](../r_visuals/plots/hp_vs_msrp_log.png)\n",
        "\n",
        "---\n",
        "\n",
        "## Correlation Matrix\n",
        "\n",
        "![Correlation Matrix](../r_visuals/plots/correlation_matrix.png)"
      ]
    },
    {
      "cell_type": "markdown",
      "metadata": {},
      "source": [
        "## 6. Act\n",
        "\n",
        "**Recommendations:**\n",
        "- Focus on high-performance, mid-price models for strong value positioning\n",
        "- Popularity clusters show potential for expanding compact luxury segment\n",
        "- Consider refining offerings by drivetrain and fuel type preferences\n",
        "\n",
        "**Next Steps:**\n",
        "- Deeper analysis by model year or emissions\n",
        "- Connect with dealership sales data for further insight"
      ]
    },
    {
      "cell_type": "markdown",
      "metadata": {
        "id": "dzEYx6kmz8Ng"
      },
      "source": [
        "The analysis was based on a dataset with various details about different vehicles.\n",
        "\n",
        "* The distribution of \"City MPG\" shows a right skewed histogram. Most values are in the area around 20 MPG, but we have a few values with really high measures of MPG. In this case using the median ist the best idea to check the data.\n",
        "\n",
        "* The average MSRP by vehicle size shows an expected picture, although the difference between compact and midsize is not as high as I expected it to be. Apparently, there seem to be more cars in the high-end price segment. This results in a small difference between of average MSRP between the compact and the midsize class.\n",
        "\n",
        "* The scatterplot was one of the most interesting visualisations. The relationship between engine HP and MSRP was as I expected: more HP lead to higher MSRP, but the scatterplot let me ask another question: why do I see two groups? I decided to check for more details, so I used a category for the \"Years\" column. Having record from 1995 to today, I decided to create 10-year periods. Using this periods let me see the picture more clearer. The \"blue\" group are mostly cars from 2004 and older. With these categories I found out two things: the relationship between MSRP and enginge HP is as expected (high engine HP lead to high MSRP). The second finding is that in the 1995-2004 group the engine HP is below 400 HP end the MSRP is lower in most cases. If we take a look at younger cars, we can see that the MSRP shows a sharp increase.\n",
        "\n",
        "* The boxplot reveals that there is a similar MSRP area between all kinds of driven wheels. We can see that there are much more outliers in rear wheel drive and all wheel drive. That can be explained with two information: rear wheel drive is often used in sports cars, and such cars are often expensive. The same can be seen for the all wheel drive section: a lot of large SUV are sold with all wheel drive and we saw before that the avereage MSRP is higher in large sized car category.\n",
        "\n",
        "* The last visualisation reveals no real surprises. Average MPG for city and highway routes are on a similar level, except the direct drive types are real high. This fact can also be explained with the use of direct drive transmission in sports cars. I guess someone who owns a sports car maybe checks the power of his car.\n",
        "\n",
        "The heatmap based on \"Engine HP new\", \"MSRP\", \"Popularity\", \"city mpg\", \"highway MPG\" shows an interesting fact: There is nearly no correlation between \"Popularity\" and all the other values. It would be very interesting to know how \"Popularity\" is measured. Is it because of sells or are there more soft reasons (like a feeling or emotion connected to a car). In my opinion that is a fact worth further investigation.\n",
        "\n",
        "\n",
        "\n",
        "\n",
        "\n"
      ]
    },
    {
      "cell_type": "markdown",
      "metadata": {
        "id": "Ge5JVeixz5Or"
      },
      "source": [
        "Summary"
      ]
    },
    {
      "cell_type": "markdown",
      "metadata": {
        "id": "Cz4-g3n-Pa8R"
      },
      "source": [
        "The analysis reveals several key insights about vehicle characteristics and pricing. The distribution of “City MPG” is right-skewed, with most vehicles around 20 MPG, making the median a more reliable measure than the mean. The relationship between engine horsepower (HP) and MSRP follows an expected trend—higher HP leads to higher MSRP. However, categorizing vehicles by production years uncovered a notable shift: older vehicles (1995–2004) generally have lower HP and MSRP, while newer models show a significant increase in both metrics. Additionally, the analysis of drivetrain types indicates that rear-wheel drive (RWD) and all-wheel drive (AWD) vehicles exhibit more outliers in price, likely due to the prevalence of high-end sports cars and large SUVs in these categories.\n",
        "\n",
        "Another key finding is the weak correlation between a vehicle’s “Popularity” and other attributes such as MSRP, MPG, or engine HP. This suggests that “Popularity” may be influenced by factors beyond technical specifications, such as brand perception or marketing. Lastly, the average fuel efficiency for city and highway driving remains relatively stable across most vehicle types, except for direct-drive transmissions, which show notably high MPG—likely due to their use in performance-focused vehicles. These findings highlight important market trends and technological shifts in the automotive industry."
      ]
    }
  ],
  "metadata": {
    "colab": {
      "collapsed_sections": [
        "VNtJ5oadK9Xv",
        "AjpHSy46KP2D",
        "MXUxTqMNK4BD",
        "ZLCBvRhclAjo",
        "5WYX4uHnlLOh",
        "f_MfS1fTpMkI",
        "-S7D3UqzqoFV",
        "OI2SuDqUvhlp",
        "eX3hKT0vnjgf",
        "5Zp3TLDjns9J",
        "KbYUKNZrp_T5",
        "ofw-ZtzlqFuI",
        "B039J0JfzVPP",
        "ruAQdv1DByko",
        "ueUZw-jbwH4P",
        "nV1Y7JxpPpdj",
        "Ge5JVeixz5Or"
      ],
      "provenance": [],
      "toc_visible": true
    },
    "kernelspec": {
      "display_name": "base",
      "language": "python",
      "name": "python3"
    },
    "language_info": {
      "codemirror_mode": {
        "name": "ipython",
        "version": 3
      },
      "file_extension": ".py",
      "mimetype": "text/x-python",
      "name": "python",
      "nbconvert_exporter": "python",
      "pygments_lexer": "ipython3",
      "version": "3.12.2"
    }
  },
  "nbformat": 4,
  "nbformat_minor": 0
}
